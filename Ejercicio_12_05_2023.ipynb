{
  "nbformat": 4,
  "nbformat_minor": 0,
  "metadata": {
    "colab": {
      "provenance": []
    },
    "kernelspec": {
      "name": "python3",
      "display_name": "Python 3"
    },
    "language_info": {
      "name": "python"
    }
  },
  "cells": [
    {
      "cell_type": "markdown",
      "source": [
        "# `Taller de heterocedasticidad`\n",
        "\n",
        "Maria Reales - 64141084\n",
        "\n",
        "Daniela Ramirez - 64201111\n",
        "\n",
        "Nicolás Cardenas - 63181008"
      ],
      "metadata": {
        "id": "zynMwhCbV0NI"
      }
    },
    {
      "cell_type": "markdown",
      "source": [
        "#Primer punto"
      ],
      "metadata": {
        "id": "iI19hR99bQfA"
      }
    },
    {
      "cell_type": "code",
      "source": [
        "!pip install wooldRidge\n",
        "import pandas as pd\n",
        "import numpy as np\n",
        "import matplotlib.pyplot as plt\n",
        "import seaborn as sns\n",
        "import wooldridge as wd\n",
        "import scipy.stats as st\n",
        "import statsmodels.api as sm"
      ],
      "metadata": {
        "colab": {
          "base_uri": "https://localhost:8080/"
        },
        "id": "ADpc_fyqWSB5",
        "outputId": "82f4c349-c1fd-4b79-9104-2805becf4904"
      },
      "execution_count": 116,
      "outputs": [
        {
          "output_type": "stream",
          "name": "stdout",
          "text": [
            "Looking in indexes: https://pypi.org/simple, https://us-python.pkg.dev/colab-wheels/public/simple/\n",
            "Requirement already satisfied: wooldRidge in /usr/local/lib/python3.10/dist-packages (0.4.4)\n",
            "Requirement already satisfied: pandas in /usr/local/lib/python3.10/dist-packages (from wooldRidge) (1.5.3)\n",
            "Requirement already satisfied: python-dateutil>=2.8.1 in /usr/local/lib/python3.10/dist-packages (from pandas->wooldRidge) (2.8.2)\n",
            "Requirement already satisfied: pytz>=2020.1 in /usr/local/lib/python3.10/dist-packages (from pandas->wooldRidge) (2022.7.1)\n",
            "Requirement already satisfied: numpy>=1.21.0 in /usr/local/lib/python3.10/dist-packages (from pandas->wooldRidge) (1.22.4)\n",
            "Requirement already satisfied: six>=1.5 in /usr/local/lib/python3.10/dist-packages (from python-dateutil>=2.8.1->pandas->wooldRidge) (1.16.0)\n"
          ]
        }
      ]
    },
    {
      "cell_type": "code",
      "source": [
        "df = wd.data (\"sleep75\")"
      ],
      "metadata": {
        "id": "F9PqmZ8ZWfUQ"
      },
      "execution_count": 117,
      "outputs": []
    },
    {
      "cell_type": "code",
      "source": [
        "df\n",
        "\n"
      ],
      "metadata": {
        "colab": {
          "base_uri": "https://localhost:8080/",
          "height": 488
        },
        "id": "SksPy5hdWrxA",
        "outputId": "d9adfe54-1c65-401a-eb74-5545578fc632"
      },
      "execution_count": 118,
      "outputs": [
        {
          "output_type": "execute_result",
          "data": {
            "text/plain": [
              "     age  black  case  clerical  construc  educ  earns74  gdhlth  inlf  leis1  \\\n",
              "0     32      0     1  0.000000  0.000000    12      0.0       0     1   3529   \n",
              "1     31      0     2  0.000000  0.000000    14   9500.0       1     1   2140   \n",
              "2     44      0     3  0.000000  0.000000    17  42500.0       1     1   4595   \n",
              "3     30      0     4  0.000000  0.000000    12  42500.0       1     1   3211   \n",
              "4     64      0     5  0.000000  0.000000    14   2500.0       1     1   4052   \n",
              "..   ...    ...   ...       ...       ...   ...      ...     ...   ...    ...   \n",
              "701   45      0   702  0.182331  0.030075    12   5500.0       1     0   5069   \n",
              "702   34      0   703  0.182331  0.030075    10   2500.0       0     0   5885   \n",
              "703   37      0   704  0.182331  0.030075    12   3500.0       1     0   4719   \n",
              "704   54      0   705  0.182331  0.030075    17  32500.0       1     0   5149   \n",
              "705   30      0   706  0.182331  0.030075    16   6750.0       1     0   4747   \n",
              "\n",
              "     ...  spwrk75  totwrk  union  worknrm  workscnd  exper  yngkid  yrsmarr  \\\n",
              "0    ...        0    3438      0     3438         0     14       0       13   \n",
              "1    ...        0    5020      0     5020         0     11       0        0   \n",
              "2    ...        1    2815      0     2815         0     21       0        0   \n",
              "3    ...        1    3786      0     3786         0     12       0       12   \n",
              "4    ...        1    2580      0     2580         0     44       0       33   \n",
              "..   ...      ...     ...    ...      ...       ...    ...     ...      ...   \n",
              "701  ...        1    2026      0     2026         0     27       0       18   \n",
              "702  ...        0     675      1      465       210     18       0        4   \n",
              "703  ...        1    1851      0     1851         0     19       0       17   \n",
              "704  ...        1    1961      1     1481       480     31       0       22   \n",
              "705  ...        0    2363      0     2363         0      8       1        9   \n",
              "\n",
              "        hrwage  agesq  \n",
              "0     7.070004   1024  \n",
              "1     1.429999    961  \n",
              "2    20.529997   1936  \n",
              "3     9.619998    900  \n",
              "4     2.750000   4096  \n",
              "..         ...    ...  \n",
              "701        NaN   2025  \n",
              "702        NaN   1156  \n",
              "703        NaN   1369  \n",
              "704        NaN   2916  \n",
              "705        NaN    900  \n",
              "\n",
              "[706 rows x 34 columns]"
            ],
            "text/html": [
              "\n",
              "  <div id=\"df-6bdf2b81-79b3-4dde-a155-6b11644c7e3e\">\n",
              "    <div class=\"colab-df-container\">\n",
              "      <div>\n",
              "<style scoped>\n",
              "    .dataframe tbody tr th:only-of-type {\n",
              "        vertical-align: middle;\n",
              "    }\n",
              "\n",
              "    .dataframe tbody tr th {\n",
              "        vertical-align: top;\n",
              "    }\n",
              "\n",
              "    .dataframe thead th {\n",
              "        text-align: right;\n",
              "    }\n",
              "</style>\n",
              "<table border=\"1\" class=\"dataframe\">\n",
              "  <thead>\n",
              "    <tr style=\"text-align: right;\">\n",
              "      <th></th>\n",
              "      <th>age</th>\n",
              "      <th>black</th>\n",
              "      <th>case</th>\n",
              "      <th>clerical</th>\n",
              "      <th>construc</th>\n",
              "      <th>educ</th>\n",
              "      <th>earns74</th>\n",
              "      <th>gdhlth</th>\n",
              "      <th>inlf</th>\n",
              "      <th>leis1</th>\n",
              "      <th>...</th>\n",
              "      <th>spwrk75</th>\n",
              "      <th>totwrk</th>\n",
              "      <th>union</th>\n",
              "      <th>worknrm</th>\n",
              "      <th>workscnd</th>\n",
              "      <th>exper</th>\n",
              "      <th>yngkid</th>\n",
              "      <th>yrsmarr</th>\n",
              "      <th>hrwage</th>\n",
              "      <th>agesq</th>\n",
              "    </tr>\n",
              "  </thead>\n",
              "  <tbody>\n",
              "    <tr>\n",
              "      <th>0</th>\n",
              "      <td>32</td>\n",
              "      <td>0</td>\n",
              "      <td>1</td>\n",
              "      <td>0.000000</td>\n",
              "      <td>0.000000</td>\n",
              "      <td>12</td>\n",
              "      <td>0.0</td>\n",
              "      <td>0</td>\n",
              "      <td>1</td>\n",
              "      <td>3529</td>\n",
              "      <td>...</td>\n",
              "      <td>0</td>\n",
              "      <td>3438</td>\n",
              "      <td>0</td>\n",
              "      <td>3438</td>\n",
              "      <td>0</td>\n",
              "      <td>14</td>\n",
              "      <td>0</td>\n",
              "      <td>13</td>\n",
              "      <td>7.070004</td>\n",
              "      <td>1024</td>\n",
              "    </tr>\n",
              "    <tr>\n",
              "      <th>1</th>\n",
              "      <td>31</td>\n",
              "      <td>0</td>\n",
              "      <td>2</td>\n",
              "      <td>0.000000</td>\n",
              "      <td>0.000000</td>\n",
              "      <td>14</td>\n",
              "      <td>9500.0</td>\n",
              "      <td>1</td>\n",
              "      <td>1</td>\n",
              "      <td>2140</td>\n",
              "      <td>...</td>\n",
              "      <td>0</td>\n",
              "      <td>5020</td>\n",
              "      <td>0</td>\n",
              "      <td>5020</td>\n",
              "      <td>0</td>\n",
              "      <td>11</td>\n",
              "      <td>0</td>\n",
              "      <td>0</td>\n",
              "      <td>1.429999</td>\n",
              "      <td>961</td>\n",
              "    </tr>\n",
              "    <tr>\n",
              "      <th>2</th>\n",
              "      <td>44</td>\n",
              "      <td>0</td>\n",
              "      <td>3</td>\n",
              "      <td>0.000000</td>\n",
              "      <td>0.000000</td>\n",
              "      <td>17</td>\n",
              "      <td>42500.0</td>\n",
              "      <td>1</td>\n",
              "      <td>1</td>\n",
              "      <td>4595</td>\n",
              "      <td>...</td>\n",
              "      <td>1</td>\n",
              "      <td>2815</td>\n",
              "      <td>0</td>\n",
              "      <td>2815</td>\n",
              "      <td>0</td>\n",
              "      <td>21</td>\n",
              "      <td>0</td>\n",
              "      <td>0</td>\n",
              "      <td>20.529997</td>\n",
              "      <td>1936</td>\n",
              "    </tr>\n",
              "    <tr>\n",
              "      <th>3</th>\n",
              "      <td>30</td>\n",
              "      <td>0</td>\n",
              "      <td>4</td>\n",
              "      <td>0.000000</td>\n",
              "      <td>0.000000</td>\n",
              "      <td>12</td>\n",
              "      <td>42500.0</td>\n",
              "      <td>1</td>\n",
              "      <td>1</td>\n",
              "      <td>3211</td>\n",
              "      <td>...</td>\n",
              "      <td>1</td>\n",
              "      <td>3786</td>\n",
              "      <td>0</td>\n",
              "      <td>3786</td>\n",
              "      <td>0</td>\n",
              "      <td>12</td>\n",
              "      <td>0</td>\n",
              "      <td>12</td>\n",
              "      <td>9.619998</td>\n",
              "      <td>900</td>\n",
              "    </tr>\n",
              "    <tr>\n",
              "      <th>4</th>\n",
              "      <td>64</td>\n",
              "      <td>0</td>\n",
              "      <td>5</td>\n",
              "      <td>0.000000</td>\n",
              "      <td>0.000000</td>\n",
              "      <td>14</td>\n",
              "      <td>2500.0</td>\n",
              "      <td>1</td>\n",
              "      <td>1</td>\n",
              "      <td>4052</td>\n",
              "      <td>...</td>\n",
              "      <td>1</td>\n",
              "      <td>2580</td>\n",
              "      <td>0</td>\n",
              "      <td>2580</td>\n",
              "      <td>0</td>\n",
              "      <td>44</td>\n",
              "      <td>0</td>\n",
              "      <td>33</td>\n",
              "      <td>2.750000</td>\n",
              "      <td>4096</td>\n",
              "    </tr>\n",
              "    <tr>\n",
              "      <th>...</th>\n",
              "      <td>...</td>\n",
              "      <td>...</td>\n",
              "      <td>...</td>\n",
              "      <td>...</td>\n",
              "      <td>...</td>\n",
              "      <td>...</td>\n",
              "      <td>...</td>\n",
              "      <td>...</td>\n",
              "      <td>...</td>\n",
              "      <td>...</td>\n",
              "      <td>...</td>\n",
              "      <td>...</td>\n",
              "      <td>...</td>\n",
              "      <td>...</td>\n",
              "      <td>...</td>\n",
              "      <td>...</td>\n",
              "      <td>...</td>\n",
              "      <td>...</td>\n",
              "      <td>...</td>\n",
              "      <td>...</td>\n",
              "      <td>...</td>\n",
              "    </tr>\n",
              "    <tr>\n",
              "      <th>701</th>\n",
              "      <td>45</td>\n",
              "      <td>0</td>\n",
              "      <td>702</td>\n",
              "      <td>0.182331</td>\n",
              "      <td>0.030075</td>\n",
              "      <td>12</td>\n",
              "      <td>5500.0</td>\n",
              "      <td>1</td>\n",
              "      <td>0</td>\n",
              "      <td>5069</td>\n",
              "      <td>...</td>\n",
              "      <td>1</td>\n",
              "      <td>2026</td>\n",
              "      <td>0</td>\n",
              "      <td>2026</td>\n",
              "      <td>0</td>\n",
              "      <td>27</td>\n",
              "      <td>0</td>\n",
              "      <td>18</td>\n",
              "      <td>NaN</td>\n",
              "      <td>2025</td>\n",
              "    </tr>\n",
              "    <tr>\n",
              "      <th>702</th>\n",
              "      <td>34</td>\n",
              "      <td>0</td>\n",
              "      <td>703</td>\n",
              "      <td>0.182331</td>\n",
              "      <td>0.030075</td>\n",
              "      <td>10</td>\n",
              "      <td>2500.0</td>\n",
              "      <td>0</td>\n",
              "      <td>0</td>\n",
              "      <td>5885</td>\n",
              "      <td>...</td>\n",
              "      <td>0</td>\n",
              "      <td>675</td>\n",
              "      <td>1</td>\n",
              "      <td>465</td>\n",
              "      <td>210</td>\n",
              "      <td>18</td>\n",
              "      <td>0</td>\n",
              "      <td>4</td>\n",
              "      <td>NaN</td>\n",
              "      <td>1156</td>\n",
              "    </tr>\n",
              "    <tr>\n",
              "      <th>703</th>\n",
              "      <td>37</td>\n",
              "      <td>0</td>\n",
              "      <td>704</td>\n",
              "      <td>0.182331</td>\n",
              "      <td>0.030075</td>\n",
              "      <td>12</td>\n",
              "      <td>3500.0</td>\n",
              "      <td>1</td>\n",
              "      <td>0</td>\n",
              "      <td>4719</td>\n",
              "      <td>...</td>\n",
              "      <td>1</td>\n",
              "      <td>1851</td>\n",
              "      <td>0</td>\n",
              "      <td>1851</td>\n",
              "      <td>0</td>\n",
              "      <td>19</td>\n",
              "      <td>0</td>\n",
              "      <td>17</td>\n",
              "      <td>NaN</td>\n",
              "      <td>1369</td>\n",
              "    </tr>\n",
              "    <tr>\n",
              "      <th>704</th>\n",
              "      <td>54</td>\n",
              "      <td>0</td>\n",
              "      <td>705</td>\n",
              "      <td>0.182331</td>\n",
              "      <td>0.030075</td>\n",
              "      <td>17</td>\n",
              "      <td>32500.0</td>\n",
              "      <td>1</td>\n",
              "      <td>0</td>\n",
              "      <td>5149</td>\n",
              "      <td>...</td>\n",
              "      <td>1</td>\n",
              "      <td>1961</td>\n",
              "      <td>1</td>\n",
              "      <td>1481</td>\n",
              "      <td>480</td>\n",
              "      <td>31</td>\n",
              "      <td>0</td>\n",
              "      <td>22</td>\n",
              "      <td>NaN</td>\n",
              "      <td>2916</td>\n",
              "    </tr>\n",
              "    <tr>\n",
              "      <th>705</th>\n",
              "      <td>30</td>\n",
              "      <td>0</td>\n",
              "      <td>706</td>\n",
              "      <td>0.182331</td>\n",
              "      <td>0.030075</td>\n",
              "      <td>16</td>\n",
              "      <td>6750.0</td>\n",
              "      <td>1</td>\n",
              "      <td>0</td>\n",
              "      <td>4747</td>\n",
              "      <td>...</td>\n",
              "      <td>0</td>\n",
              "      <td>2363</td>\n",
              "      <td>0</td>\n",
              "      <td>2363</td>\n",
              "      <td>0</td>\n",
              "      <td>8</td>\n",
              "      <td>1</td>\n",
              "      <td>9</td>\n",
              "      <td>NaN</td>\n",
              "      <td>900</td>\n",
              "    </tr>\n",
              "  </tbody>\n",
              "</table>\n",
              "<p>706 rows × 34 columns</p>\n",
              "</div>\n",
              "      <button class=\"colab-df-convert\" onclick=\"convertToInteractive('df-6bdf2b81-79b3-4dde-a155-6b11644c7e3e')\"\n",
              "              title=\"Convert this dataframe to an interactive table.\"\n",
              "              style=\"display:none;\">\n",
              "        \n",
              "  <svg xmlns=\"http://www.w3.org/2000/svg\" height=\"24px\"viewBox=\"0 0 24 24\"\n",
              "       width=\"24px\">\n",
              "    <path d=\"M0 0h24v24H0V0z\" fill=\"none\"/>\n",
              "    <path d=\"M18.56 5.44l.94 2.06.94-2.06 2.06-.94-2.06-.94-.94-2.06-.94 2.06-2.06.94zm-11 1L8.5 8.5l.94-2.06 2.06-.94-2.06-.94L8.5 2.5l-.94 2.06-2.06.94zm10 10l.94 2.06.94-2.06 2.06-.94-2.06-.94-.94-2.06-.94 2.06-2.06.94z\"/><path d=\"M17.41 7.96l-1.37-1.37c-.4-.4-.92-.59-1.43-.59-.52 0-1.04.2-1.43.59L10.3 9.45l-7.72 7.72c-.78.78-.78 2.05 0 2.83L4 21.41c.39.39.9.59 1.41.59.51 0 1.02-.2 1.41-.59l7.78-7.78 2.81-2.81c.8-.78.8-2.07 0-2.86zM5.41 20L4 18.59l7.72-7.72 1.47 1.35L5.41 20z\"/>\n",
              "  </svg>\n",
              "      </button>\n",
              "      \n",
              "  <style>\n",
              "    .colab-df-container {\n",
              "      display:flex;\n",
              "      flex-wrap:wrap;\n",
              "      gap: 12px;\n",
              "    }\n",
              "\n",
              "    .colab-df-convert {\n",
              "      background-color: #E8F0FE;\n",
              "      border: none;\n",
              "      border-radius: 50%;\n",
              "      cursor: pointer;\n",
              "      display: none;\n",
              "      fill: #1967D2;\n",
              "      height: 32px;\n",
              "      padding: 0 0 0 0;\n",
              "      width: 32px;\n",
              "    }\n",
              "\n",
              "    .colab-df-convert:hover {\n",
              "      background-color: #E2EBFA;\n",
              "      box-shadow: 0px 1px 2px rgba(60, 64, 67, 0.3), 0px 1px 3px 1px rgba(60, 64, 67, 0.15);\n",
              "      fill: #174EA6;\n",
              "    }\n",
              "\n",
              "    [theme=dark] .colab-df-convert {\n",
              "      background-color: #3B4455;\n",
              "      fill: #D2E3FC;\n",
              "    }\n",
              "\n",
              "    [theme=dark] .colab-df-convert:hover {\n",
              "      background-color: #434B5C;\n",
              "      box-shadow: 0px 1px 3px 1px rgba(0, 0, 0, 0.15);\n",
              "      filter: drop-shadow(0px 1px 2px rgba(0, 0, 0, 0.3));\n",
              "      fill: #FFFFFF;\n",
              "    }\n",
              "  </style>\n",
              "\n",
              "      <script>\n",
              "        const buttonEl =\n",
              "          document.querySelector('#df-6bdf2b81-79b3-4dde-a155-6b11644c7e3e button.colab-df-convert');\n",
              "        buttonEl.style.display =\n",
              "          google.colab.kernel.accessAllowed ? 'block' : 'none';\n",
              "\n",
              "        async function convertToInteractive(key) {\n",
              "          const element = document.querySelector('#df-6bdf2b81-79b3-4dde-a155-6b11644c7e3e');\n",
              "          const dataTable =\n",
              "            await google.colab.kernel.invokeFunction('convertToInteractive',\n",
              "                                                     [key], {});\n",
              "          if (!dataTable) return;\n",
              "\n",
              "          const docLinkHtml = 'Like what you see? Visit the ' +\n",
              "            '<a target=\"_blank\" href=https://colab.research.google.com/notebooks/data_table.ipynb>data table notebook</a>'\n",
              "            + ' to learn more about interactive tables.';\n",
              "          element.innerHTML = '';\n",
              "          dataTable['output_type'] = 'display_data';\n",
              "          await google.colab.output.renderOutput(dataTable, element);\n",
              "          const docLink = document.createElement('div');\n",
              "          docLink.innerHTML = docLinkHtml;\n",
              "          element.appendChild(docLink);\n",
              "        }\n",
              "      </script>\n",
              "    </div>\n",
              "  </div>\n",
              "  "
            ]
          },
          "metadata": {},
          "execution_count": 118
        }
      ]
    },
    {
      "cell_type": "code",
      "source": [
        "df.isna().sum()"
      ],
      "metadata": {
        "colab": {
          "base_uri": "https://localhost:8080/"
        },
        "id": "QU0HI9s3ZFXW",
        "outputId": "9b1cae92-daf5-405e-88d8-635e69f70bde"
      },
      "execution_count": 119,
      "outputs": [
        {
          "output_type": "execute_result",
          "data": {
            "text/plain": [
              "age           0\n",
              "black         0\n",
              "case          0\n",
              "clerical      0\n",
              "construc      0\n",
              "educ          0\n",
              "earns74       0\n",
              "gdhlth        0\n",
              "inlf          0\n",
              "leis1         0\n",
              "leis2         0\n",
              "leis3         0\n",
              "smsa          0\n",
              "lhrwage     174\n",
              "lothinc       0\n",
              "male          0\n",
              "marr          0\n",
              "prot          0\n",
              "rlxall        0\n",
              "selfe         0\n",
              "sleep         0\n",
              "slpnaps       0\n",
              "south         0\n",
              "spsepay       0\n",
              "spwrk75       0\n",
              "totwrk        0\n",
              "union         0\n",
              "worknrm       0\n",
              "workscnd      0\n",
              "exper         0\n",
              "yngkid        0\n",
              "yrsmarr       0\n",
              "hrwage      174\n",
              "agesq         0\n",
              "dtype: int64"
            ]
          },
          "metadata": {},
          "execution_count": 119
        }
      ]
    },
    {
      "cell_type": "code",
      "source": [
        "wd.data('sleep75', description=True)"
      ],
      "metadata": {
        "colab": {
          "base_uri": "https://localhost:8080/"
        },
        "id": "BpNmj9mIWvzw",
        "outputId": "d53a2b75-0e2e-4d3d-bf8a-de4a3146e9cb"
      },
      "execution_count": 120,
      "outputs": [
        {
          "output_type": "stream",
          "name": "stdout",
          "text": [
            "name of dataset: sleep75\n",
            "no of variables: 34\n",
            "no of observations: 706\n",
            "\n",
            "+----------+--------------------------------+\n",
            "| variable | label                          |\n",
            "+----------+--------------------------------+\n",
            "| age      | in years                       |\n",
            "| black    | =1 if black                    |\n",
            "| case     | identifier                     |\n",
            "| clerical | =1 if clerical worker          |\n",
            "| construc | =1 if construction worker      |\n",
            "| educ     | years of schooling             |\n",
            "| earns74  | total earnings, 1974           |\n",
            "| gdhlth   | =1 if in good or excel. health |\n",
            "| inlf     | =1 if in labor force           |\n",
            "| leis1    | sleep - totwrk                 |\n",
            "| leis2    | slpnaps - totwrk               |\n",
            "| leis3    | rlxall - totwrk                |\n",
            "| smsa     | =1 if live in smsa             |\n",
            "| lhrwage  | log hourly wage                |\n",
            "| lothinc  | log othinc, unless othinc < 0  |\n",
            "| male     | =1 if male                     |\n",
            "| marr     | =1 if married                  |\n",
            "| prot     | =1 if Protestant               |\n",
            "| rlxall   | slpnaps + personal activs      |\n",
            "| selfe    | =1 if self employed            |\n",
            "| sleep    | mins sleep at night, per wk    |\n",
            "| slpnaps  | minutes sleep, inc. naps       |\n",
            "| south    | =1 if live in south            |\n",
            "| spsepay  | spousal wage income            |\n",
            "| spwrk75  | =1 if spouse works             |\n",
            "| totwrk   | mins worked per week           |\n",
            "| union    | =1 if belong to union          |\n",
            "| worknrm  | mins work main job             |\n",
            "| workscnd | mins work second job           |\n",
            "| exper    | age - educ - 6                 |\n",
            "| yngkid   | =1 if children < 3 present     |\n",
            "| yrsmarr  | years married                  |\n",
            "| hrwage   | hourly wage                    |\n",
            "| agesq    | age^2                          |\n",
            "+----------+--------------------------------+\n",
            "\n",
            "J.E. Biddle and D.S. Hamermesh (1990), “Sleep and the Allocation of\n",
            "Time,” Journal of Political Economy 98, 922-943. Professor Biddle\n",
            "kindly provided the data.\n"
          ]
        }
      ]
    },
    {
      "cell_type": "code",
      "source": [
        "x = ['age', 'educ', 'slpnaps', 'clerical', 'construc', 'worknrm ', 'workscnd', 'yrsmarr']"
      ],
      "metadata": {
        "id": "FTDZMAIfW-4L"
      },
      "execution_count": 121,
      "outputs": []
    },
    {
      "cell_type": "code",
      "source": [
        "y = ['sleep']"
      ],
      "metadata": {
        "id": "3G7IAId5YmR3"
      },
      "execution_count": 122,
      "outputs": []
    },
    {
      "cell_type": "code",
      "source": [
        "y = df[\"sleep\"]\n",
        "x = df[['age', 'educ', 'slpnaps', 'clerical', 'construc', 'workscnd', 'yrsmarr']]\n",
        "model = sm.add_constant(x)\n",
        "model = sm.OLS(y,x).fit()\n",
        "model.summary()"
      ],
      "metadata": {
        "colab": {
          "base_uri": "https://localhost:8080/",
          "height": 610
        },
        "id": "W2hsIqZ6aLhi",
        "outputId": "7b933c05-9a7e-461b-f281-eb021c7e7f56"
      },
      "execution_count": 123,
      "outputs": [
        {
          "output_type": "execute_result",
          "data": {
            "text/plain": [
              "<class 'statsmodels.iolib.summary.Summary'>\n",
              "\"\"\"\n",
              "                                 OLS Regression Results                                \n",
              "=======================================================================================\n",
              "Dep. Variable:                  sleep   R-squared (uncentered):                   0.996\n",
              "Model:                            OLS   Adj. R-squared (uncentered):              0.996\n",
              "Method:                 Least Squares   F-statistic:                          2.520e+04\n",
              "Date:                Fri, 12 May 2023   Prob (F-statistic):                        0.00\n",
              "Time:                        16:31:36   Log-Likelihood:                         -4767.0\n",
              "No. Observations:                 706   AIC:                                      9548.\n",
              "Df Residuals:                     699   BIC:                                      9580.\n",
              "Df Model:                           7                                                  \n",
              "Covariance Type:            nonrobust                                                  \n",
              "==============================================================================\n",
              "                 coef    std err          t      P>|t|      [0.025      0.975]\n",
              "------------------------------------------------------------------------------\n",
              "age            1.5816      0.803      1.969      0.049       0.005       3.158\n",
              "educ          16.5128      2.238      7.379      0.000      12.119      20.907\n",
              "slpnaps        0.8821      0.011     78.880      0.000       0.860       0.904\n",
              "clerical     -20.5765     23.557     -0.873      0.383     -66.827      25.674\n",
              "construc      74.5643     53.197      1.402      0.161     -29.880     179.009\n",
              "workscnd      -0.0014      0.053     -0.026      0.979      -0.105       0.103\n",
              "yrsmarr        0.4695      0.839      0.559      0.576      -1.178       2.117\n",
              "==============================================================================\n",
              "Omnibus:                      519.909   Durbin-Watson:                   2.099\n",
              "Prob(Omnibus):                  0.000   Jarque-Bera (JB):             9193.942\n",
              "Skew:                          -3.150   Prob(JB):                         0.00\n",
              "Kurtosis:                      19.518   Cond. No.                     2.32e+04\n",
              "==============================================================================\n",
              "\n",
              "Notes:\n",
              "[1] R² is computed without centering (uncentered) since the model does not contain a constant.\n",
              "[2] Standard Errors assume that the covariance matrix of the errors is correctly specified.\n",
              "[3] The condition number is large, 2.32e+04. This might indicate that there are\n",
              "strong multicollinearity or other numerical problems.\n",
              "\"\"\""
            ],
            "text/html": [
              "<table class=\"simpletable\">\n",
              "<caption>OLS Regression Results</caption>\n",
              "<tr>\n",
              "  <th>Dep. Variable:</th>          <td>sleep</td>      <th>  R-squared (uncentered):</th>      <td>   0.996</td> \n",
              "</tr>\n",
              "<tr>\n",
              "  <th>Model:</th>                   <td>OLS</td>       <th>  Adj. R-squared (uncentered):</th> <td>   0.996</td> \n",
              "</tr>\n",
              "<tr>\n",
              "  <th>Method:</th>             <td>Least Squares</td>  <th>  F-statistic:       </th>          <td>2.520e+04</td>\n",
              "</tr>\n",
              "<tr>\n",
              "  <th>Date:</th>             <td>Fri, 12 May 2023</td> <th>  Prob (F-statistic):</th>           <td>  0.00</td>  \n",
              "</tr>\n",
              "<tr>\n",
              "  <th>Time:</th>                 <td>16:31:36</td>     <th>  Log-Likelihood:    </th>          <td> -4767.0</td> \n",
              "</tr>\n",
              "<tr>\n",
              "  <th>No. Observations:</th>      <td>   706</td>      <th>  AIC:               </th>          <td>   9548.</td> \n",
              "</tr>\n",
              "<tr>\n",
              "  <th>Df Residuals:</th>          <td>   699</td>      <th>  BIC:               </th>          <td>   9580.</td> \n",
              "</tr>\n",
              "<tr>\n",
              "  <th>Df Model:</th>              <td>     7</td>      <th>                     </th>              <td> </td>    \n",
              "</tr>\n",
              "<tr>\n",
              "  <th>Covariance Type:</th>      <td>nonrobust</td>    <th>                     </th>              <td> </td>    \n",
              "</tr>\n",
              "</table>\n",
              "<table class=\"simpletable\">\n",
              "<tr>\n",
              "      <td></td>        <th>coef</th>     <th>std err</th>      <th>t</th>      <th>P>|t|</th>  <th>[0.025</th>    <th>0.975]</th>  \n",
              "</tr>\n",
              "<tr>\n",
              "  <th>age</th>      <td>    1.5816</td> <td>    0.803</td> <td>    1.969</td> <td> 0.049</td> <td>    0.005</td> <td>    3.158</td>\n",
              "</tr>\n",
              "<tr>\n",
              "  <th>educ</th>     <td>   16.5128</td> <td>    2.238</td> <td>    7.379</td> <td> 0.000</td> <td>   12.119</td> <td>   20.907</td>\n",
              "</tr>\n",
              "<tr>\n",
              "  <th>slpnaps</th>  <td>    0.8821</td> <td>    0.011</td> <td>   78.880</td> <td> 0.000</td> <td>    0.860</td> <td>    0.904</td>\n",
              "</tr>\n",
              "<tr>\n",
              "  <th>clerical</th> <td>  -20.5765</td> <td>   23.557</td> <td>   -0.873</td> <td> 0.383</td> <td>  -66.827</td> <td>   25.674</td>\n",
              "</tr>\n",
              "<tr>\n",
              "  <th>construc</th> <td>   74.5643</td> <td>   53.197</td> <td>    1.402</td> <td> 0.161</td> <td>  -29.880</td> <td>  179.009</td>\n",
              "</tr>\n",
              "<tr>\n",
              "  <th>workscnd</th> <td>   -0.0014</td> <td>    0.053</td> <td>   -0.026</td> <td> 0.979</td> <td>   -0.105</td> <td>    0.103</td>\n",
              "</tr>\n",
              "<tr>\n",
              "  <th>yrsmarr</th>  <td>    0.4695</td> <td>    0.839</td> <td>    0.559</td> <td> 0.576</td> <td>   -1.178</td> <td>    2.117</td>\n",
              "</tr>\n",
              "</table>\n",
              "<table class=\"simpletable\">\n",
              "<tr>\n",
              "  <th>Omnibus:</th>       <td>519.909</td> <th>  Durbin-Watson:     </th> <td>   2.099</td>\n",
              "</tr>\n",
              "<tr>\n",
              "  <th>Prob(Omnibus):</th> <td> 0.000</td>  <th>  Jarque-Bera (JB):  </th> <td>9193.942</td>\n",
              "</tr>\n",
              "<tr>\n",
              "  <th>Skew:</th>          <td>-3.150</td>  <th>  Prob(JB):          </th> <td>    0.00</td>\n",
              "</tr>\n",
              "<tr>\n",
              "  <th>Kurtosis:</th>      <td>19.518</td>  <th>  Cond. No.          </th> <td>2.32e+04</td>\n",
              "</tr>\n",
              "</table><br/><br/>Notes:<br/>[1] R² is computed without centering (uncentered) since the model does not contain a constant.<br/>[2] Standard Errors assume that the covariance matrix of the errors is correctly specified.<br/>[3] The condition number is large, 2.32e+04. This might indicate that there are<br/>strong multicollinearity or other numerical problems."
            ]
          },
          "metadata": {},
          "execution_count": 123
        }
      ]
    },
    {
      "cell_type": "code",
      "source": [
        "#White\n",
        "x = np.c_[np.ones(len(x)), x]\n"
      ],
      "metadata": {
        "id": "yX50kj6-wpxv"
      },
      "execution_count": 124,
      "outputs": []
    },
    {
      "cell_type": "code",
      "source": [
        "betas = np.linalg.inv(x.T.dot(x)).dot(x.T.dot(y))"
      ],
      "metadata": {
        "id": "pLbhV6dUyR7q"
      },
      "execution_count": 125,
      "outputs": []
    },
    {
      "cell_type": "code",
      "source": [
        "y_est = x.dot(betas)\n",
        "y_est_2 = y_est ** 2\n",
        "u_est = y - y_est\n",
        "u_est_2 = u_est ** 2"
      ],
      "metadata": {
        "id": "14V3CeU0wxFv"
      },
      "execution_count": 126,
      "outputs": []
    },
    {
      "cell_type": "code",
      "source": [
        "x_u = np.c_[np.ones(len(y_est)), y_est, y_est_2]\n",
        "     \n"
      ],
      "metadata": {
        "id": "OvDyFnHww0O1"
      },
      "execution_count": 127,
      "outputs": []
    },
    {
      "cell_type": "code",
      "source": [
        "betas_u = np.linalg.inv(x_u.T.dot(x_u)).dot(x_u.T.dot(u_est_2))"
      ],
      "metadata": {
        "id": "tLkz6mVzw3q2"
      },
      "execution_count": 128,
      "outputs": []
    },
    {
      "cell_type": "code",
      "source": [
        "u_est_2_est = x_u.dot(betas_u)\n",
        "sst = sum((u_est_2 - u_est_2.mean()) ** 2) \n",
        "sse = sum((u_est_2_est - u_est_2.mean()) ** 2)\n",
        "r2 = sse / sst"
      ],
      "metadata": {
        "id": "u0ggETqqw5uV"
      },
      "execution_count": 129,
      "outputs": []
    },
    {
      "cell_type": "code",
      "source": [
        "chi_stat = len(x_u) * r2"
      ],
      "metadata": {
        "id": "8nquEDJJw8gN"
      },
      "execution_count": 130,
      "outputs": []
    },
    {
      "cell_type": "code",
      "source": [
        "chi_stat"
      ],
      "metadata": {
        "colab": {
          "base_uri": "https://localhost:8080/"
        },
        "id": "5OogqWnhw-4v",
        "outputId": "e054d8ab-6948-464f-a0c6-f3a45c177f38"
      },
      "execution_count": 131,
      "outputs": [
        {
          "output_type": "execute_result",
          "data": {
            "text/plain": [
              "358.15172887204886"
            ]
          },
          "metadata": {},
          "execution_count": 131
        }
      ]
    },
    {
      "cell_type": "code",
      "source": [
        "chi = st.chi2(2)\n",
        "p_valor = 1 - chi.cdf(chi_stat)"
      ],
      "metadata": {
        "id": "3hWGAQZBxGMQ"
      },
      "execution_count": 132,
      "outputs": []
    },
    {
      "cell_type": "code",
      "source": [
        "p_valor"
      ],
      "metadata": {
        "colab": {
          "base_uri": "https://localhost:8080/"
        },
        "id": "AF19AB_px371",
        "outputId": "69241f22-95ad-4c6c-b8a1-5a2c719d1cf9"
      },
      "execution_count": 133,
      "outputs": [
        {
          "output_type": "execute_result",
          "data": {
            "text/plain": [
              "0.0"
            ]
          },
          "metadata": {},
          "execution_count": 133
        }
      ]
    },
    {
      "cell_type": "markdown",
      "source": [
        "Se rechaza la Hipotesis Nula, debido a que el P valor es < 0,05% por tal razon se define que en el modelo existe Heterocedasticidad."
      ],
      "metadata": {
        "id": "0_GgbyB0n9y0"
      }
    },
    {
      "cell_type": "markdown",
      "source": [
        "#Segundo punto"
      ],
      "metadata": {
        "id": "hHfxS3a1bghY"
      }
    },
    {
      "cell_type": "code",
      "source": [
        "data = wd.data (\"hprice1\")"
      ],
      "metadata": {
        "id": "TykEV0Iqblnq"
      },
      "execution_count": 134,
      "outputs": []
    },
    {
      "cell_type": "code",
      "source": [
        "data"
      ],
      "metadata": {
        "colab": {
          "base_uri": "https://localhost:8080/",
          "height": 424
        },
        "id": "8eZZEYd_buK6",
        "outputId": "f1edddd5-250a-44cf-9a41-0a254e030ac7"
      },
      "execution_count": 135,
      "outputs": [
        {
          "output_type": "execute_result",
          "data": {
            "text/plain": [
              "    price      assess  bdrms  lotsize  sqrft  colonial    lprice   lassess  \\\n",
              "0   300.0  349.100006      4   6126.0   2438         1  5.703783  5.855359   \n",
              "1   370.0  351.500000      3   9903.0   2076         1  5.913503  5.862210   \n",
              "2   191.0  217.699997      3   5200.0   1374         0  5.252274  5.383118   \n",
              "3   195.0  231.800003      3   4600.0   1448         1  5.273000  5.445875   \n",
              "4   373.0  319.100006      4   6095.0   2514         1  5.921578  5.765504   \n",
              "..    ...         ...    ...      ...    ...       ...       ...       ...   \n",
              "83  295.0  318.299988      3   6056.0   1837         1  5.686975  5.762994   \n",
              "84  236.0  259.399994      3   5828.0   1715         0  5.463832  5.558371   \n",
              "85  202.5  258.100006      3   6341.0   1574         0  5.310740  5.553347   \n",
              "86  219.0  232.000000      2   6362.0   1185         0  5.389072  5.446737   \n",
              "87  242.0  252.000000      4   4950.0   1774         1  5.488938  5.529429   \n",
              "\n",
              "    llotsize    lsqrft  \n",
              "0   8.720297  7.798934  \n",
              "1   9.200593  7.638198  \n",
              "2   8.556414  7.225482  \n",
              "3   8.433811  7.277938  \n",
              "4   8.715224  7.829630  \n",
              "..       ...       ...  \n",
              "83  8.708805  7.515889  \n",
              "84  8.670429  7.447168  \n",
              "85  8.754792  7.361375  \n",
              "86  8.758098  7.077498  \n",
              "87  8.507143  7.480992  \n",
              "\n",
              "[88 rows x 10 columns]"
            ],
            "text/html": [
              "\n",
              "  <div id=\"df-84aad8eb-0309-4dbb-a3ef-78cfad09eb38\">\n",
              "    <div class=\"colab-df-container\">\n",
              "      <div>\n",
              "<style scoped>\n",
              "    .dataframe tbody tr th:only-of-type {\n",
              "        vertical-align: middle;\n",
              "    }\n",
              "\n",
              "    .dataframe tbody tr th {\n",
              "        vertical-align: top;\n",
              "    }\n",
              "\n",
              "    .dataframe thead th {\n",
              "        text-align: right;\n",
              "    }\n",
              "</style>\n",
              "<table border=\"1\" class=\"dataframe\">\n",
              "  <thead>\n",
              "    <tr style=\"text-align: right;\">\n",
              "      <th></th>\n",
              "      <th>price</th>\n",
              "      <th>assess</th>\n",
              "      <th>bdrms</th>\n",
              "      <th>lotsize</th>\n",
              "      <th>sqrft</th>\n",
              "      <th>colonial</th>\n",
              "      <th>lprice</th>\n",
              "      <th>lassess</th>\n",
              "      <th>llotsize</th>\n",
              "      <th>lsqrft</th>\n",
              "    </tr>\n",
              "  </thead>\n",
              "  <tbody>\n",
              "    <tr>\n",
              "      <th>0</th>\n",
              "      <td>300.0</td>\n",
              "      <td>349.100006</td>\n",
              "      <td>4</td>\n",
              "      <td>6126.0</td>\n",
              "      <td>2438</td>\n",
              "      <td>1</td>\n",
              "      <td>5.703783</td>\n",
              "      <td>5.855359</td>\n",
              "      <td>8.720297</td>\n",
              "      <td>7.798934</td>\n",
              "    </tr>\n",
              "    <tr>\n",
              "      <th>1</th>\n",
              "      <td>370.0</td>\n",
              "      <td>351.500000</td>\n",
              "      <td>3</td>\n",
              "      <td>9903.0</td>\n",
              "      <td>2076</td>\n",
              "      <td>1</td>\n",
              "      <td>5.913503</td>\n",
              "      <td>5.862210</td>\n",
              "      <td>9.200593</td>\n",
              "      <td>7.638198</td>\n",
              "    </tr>\n",
              "    <tr>\n",
              "      <th>2</th>\n",
              "      <td>191.0</td>\n",
              "      <td>217.699997</td>\n",
              "      <td>3</td>\n",
              "      <td>5200.0</td>\n",
              "      <td>1374</td>\n",
              "      <td>0</td>\n",
              "      <td>5.252274</td>\n",
              "      <td>5.383118</td>\n",
              "      <td>8.556414</td>\n",
              "      <td>7.225482</td>\n",
              "    </tr>\n",
              "    <tr>\n",
              "      <th>3</th>\n",
              "      <td>195.0</td>\n",
              "      <td>231.800003</td>\n",
              "      <td>3</td>\n",
              "      <td>4600.0</td>\n",
              "      <td>1448</td>\n",
              "      <td>1</td>\n",
              "      <td>5.273000</td>\n",
              "      <td>5.445875</td>\n",
              "      <td>8.433811</td>\n",
              "      <td>7.277938</td>\n",
              "    </tr>\n",
              "    <tr>\n",
              "      <th>4</th>\n",
              "      <td>373.0</td>\n",
              "      <td>319.100006</td>\n",
              "      <td>4</td>\n",
              "      <td>6095.0</td>\n",
              "      <td>2514</td>\n",
              "      <td>1</td>\n",
              "      <td>5.921578</td>\n",
              "      <td>5.765504</td>\n",
              "      <td>8.715224</td>\n",
              "      <td>7.829630</td>\n",
              "    </tr>\n",
              "    <tr>\n",
              "      <th>...</th>\n",
              "      <td>...</td>\n",
              "      <td>...</td>\n",
              "      <td>...</td>\n",
              "      <td>...</td>\n",
              "      <td>...</td>\n",
              "      <td>...</td>\n",
              "      <td>...</td>\n",
              "      <td>...</td>\n",
              "      <td>...</td>\n",
              "      <td>...</td>\n",
              "    </tr>\n",
              "    <tr>\n",
              "      <th>83</th>\n",
              "      <td>295.0</td>\n",
              "      <td>318.299988</td>\n",
              "      <td>3</td>\n",
              "      <td>6056.0</td>\n",
              "      <td>1837</td>\n",
              "      <td>1</td>\n",
              "      <td>5.686975</td>\n",
              "      <td>5.762994</td>\n",
              "      <td>8.708805</td>\n",
              "      <td>7.515889</td>\n",
              "    </tr>\n",
              "    <tr>\n",
              "      <th>84</th>\n",
              "      <td>236.0</td>\n",
              "      <td>259.399994</td>\n",
              "      <td>3</td>\n",
              "      <td>5828.0</td>\n",
              "      <td>1715</td>\n",
              "      <td>0</td>\n",
              "      <td>5.463832</td>\n",
              "      <td>5.558371</td>\n",
              "      <td>8.670429</td>\n",
              "      <td>7.447168</td>\n",
              "    </tr>\n",
              "    <tr>\n",
              "      <th>85</th>\n",
              "      <td>202.5</td>\n",
              "      <td>258.100006</td>\n",
              "      <td>3</td>\n",
              "      <td>6341.0</td>\n",
              "      <td>1574</td>\n",
              "      <td>0</td>\n",
              "      <td>5.310740</td>\n",
              "      <td>5.553347</td>\n",
              "      <td>8.754792</td>\n",
              "      <td>7.361375</td>\n",
              "    </tr>\n",
              "    <tr>\n",
              "      <th>86</th>\n",
              "      <td>219.0</td>\n",
              "      <td>232.000000</td>\n",
              "      <td>2</td>\n",
              "      <td>6362.0</td>\n",
              "      <td>1185</td>\n",
              "      <td>0</td>\n",
              "      <td>5.389072</td>\n",
              "      <td>5.446737</td>\n",
              "      <td>8.758098</td>\n",
              "      <td>7.077498</td>\n",
              "    </tr>\n",
              "    <tr>\n",
              "      <th>87</th>\n",
              "      <td>242.0</td>\n",
              "      <td>252.000000</td>\n",
              "      <td>4</td>\n",
              "      <td>4950.0</td>\n",
              "      <td>1774</td>\n",
              "      <td>1</td>\n",
              "      <td>5.488938</td>\n",
              "      <td>5.529429</td>\n",
              "      <td>8.507143</td>\n",
              "      <td>7.480992</td>\n",
              "    </tr>\n",
              "  </tbody>\n",
              "</table>\n",
              "<p>88 rows × 10 columns</p>\n",
              "</div>\n",
              "      <button class=\"colab-df-convert\" onclick=\"convertToInteractive('df-84aad8eb-0309-4dbb-a3ef-78cfad09eb38')\"\n",
              "              title=\"Convert this dataframe to an interactive table.\"\n",
              "              style=\"display:none;\">\n",
              "        \n",
              "  <svg xmlns=\"http://www.w3.org/2000/svg\" height=\"24px\"viewBox=\"0 0 24 24\"\n",
              "       width=\"24px\">\n",
              "    <path d=\"M0 0h24v24H0V0z\" fill=\"none\"/>\n",
              "    <path d=\"M18.56 5.44l.94 2.06.94-2.06 2.06-.94-2.06-.94-.94-2.06-.94 2.06-2.06.94zm-11 1L8.5 8.5l.94-2.06 2.06-.94-2.06-.94L8.5 2.5l-.94 2.06-2.06.94zm10 10l.94 2.06.94-2.06 2.06-.94-2.06-.94-.94-2.06-.94 2.06-2.06.94z\"/><path d=\"M17.41 7.96l-1.37-1.37c-.4-.4-.92-.59-1.43-.59-.52 0-1.04.2-1.43.59L10.3 9.45l-7.72 7.72c-.78.78-.78 2.05 0 2.83L4 21.41c.39.39.9.59 1.41.59.51 0 1.02-.2 1.41-.59l7.78-7.78 2.81-2.81c.8-.78.8-2.07 0-2.86zM5.41 20L4 18.59l7.72-7.72 1.47 1.35L5.41 20z\"/>\n",
              "  </svg>\n",
              "      </button>\n",
              "      \n",
              "  <style>\n",
              "    .colab-df-container {\n",
              "      display:flex;\n",
              "      flex-wrap:wrap;\n",
              "      gap: 12px;\n",
              "    }\n",
              "\n",
              "    .colab-df-convert {\n",
              "      background-color: #E8F0FE;\n",
              "      border: none;\n",
              "      border-radius: 50%;\n",
              "      cursor: pointer;\n",
              "      display: none;\n",
              "      fill: #1967D2;\n",
              "      height: 32px;\n",
              "      padding: 0 0 0 0;\n",
              "      width: 32px;\n",
              "    }\n",
              "\n",
              "    .colab-df-convert:hover {\n",
              "      background-color: #E2EBFA;\n",
              "      box-shadow: 0px 1px 2px rgba(60, 64, 67, 0.3), 0px 1px 3px 1px rgba(60, 64, 67, 0.15);\n",
              "      fill: #174EA6;\n",
              "    }\n",
              "\n",
              "    [theme=dark] .colab-df-convert {\n",
              "      background-color: #3B4455;\n",
              "      fill: #D2E3FC;\n",
              "    }\n",
              "\n",
              "    [theme=dark] .colab-df-convert:hover {\n",
              "      background-color: #434B5C;\n",
              "      box-shadow: 0px 1px 3px 1px rgba(0, 0, 0, 0.15);\n",
              "      filter: drop-shadow(0px 1px 2px rgba(0, 0, 0, 0.3));\n",
              "      fill: #FFFFFF;\n",
              "    }\n",
              "  </style>\n",
              "\n",
              "      <script>\n",
              "        const buttonEl =\n",
              "          document.querySelector('#df-84aad8eb-0309-4dbb-a3ef-78cfad09eb38 button.colab-df-convert');\n",
              "        buttonEl.style.display =\n",
              "          google.colab.kernel.accessAllowed ? 'block' : 'none';\n",
              "\n",
              "        async function convertToInteractive(key) {\n",
              "          const element = document.querySelector('#df-84aad8eb-0309-4dbb-a3ef-78cfad09eb38');\n",
              "          const dataTable =\n",
              "            await google.colab.kernel.invokeFunction('convertToInteractive',\n",
              "                                                     [key], {});\n",
              "          if (!dataTable) return;\n",
              "\n",
              "          const docLinkHtml = 'Like what you see? Visit the ' +\n",
              "            '<a target=\"_blank\" href=https://colab.research.google.com/notebooks/data_table.ipynb>data table notebook</a>'\n",
              "            + ' to learn more about interactive tables.';\n",
              "          element.innerHTML = '';\n",
              "          dataTable['output_type'] = 'display_data';\n",
              "          await google.colab.output.renderOutput(dataTable, element);\n",
              "          const docLink = document.createElement('div');\n",
              "          docLink.innerHTML = docLinkHtml;\n",
              "          element.appendChild(docLink);\n",
              "        }\n",
              "      </script>\n",
              "    </div>\n",
              "  </div>\n",
              "  "
            ]
          },
          "metadata": {},
          "execution_count": 135
        }
      ]
    },
    {
      "cell_type": "code",
      "source": [
        "y = data[\"price\"]\n",
        "x = data[['lotsize', 'sqrft', 'bdrms']]\n",
        "model = sm.add_constant(x)\n",
        "model = sm.OLS(y,x)\n",
        "Reg = model.fit()\n",
        "Reg.summary()"
      ],
      "metadata": {
        "colab": {
          "base_uri": "https://localhost:8080/",
          "height": 525
        },
        "id": "ldHmlO3fhr14",
        "outputId": "96d6e71f-d298-47fa-d5b9-0e2d4c609361"
      },
      "execution_count": 136,
      "outputs": [
        {
          "output_type": "execute_result",
          "data": {
            "text/plain": [
              "<class 'statsmodels.iolib.summary.Summary'>\n",
              "\"\"\"\n",
              "                                 OLS Regression Results                                \n",
              "=======================================================================================\n",
              "Dep. Variable:                  price   R-squared (uncentered):                   0.964\n",
              "Model:                            OLS   Adj. R-squared (uncentered):              0.963\n",
              "Method:                 Least Squares   F-statistic:                              767.4\n",
              "Date:                Fri, 12 May 2023   Prob (F-statistic):                    2.01e-61\n",
              "Time:                        16:31:37   Log-Likelihood:                         -483.16\n",
              "No. Observations:                  88   AIC:                                      972.3\n",
              "Df Residuals:                      85   BIC:                                      979.8\n",
              "Df Model:                           3                                                  \n",
              "Covariance Type:            nonrobust                                                  \n",
              "==============================================================================\n",
              "                 coef    std err          t      P>|t|      [0.025      0.975]\n",
              "------------------------------------------------------------------------------\n",
              "lotsize        0.0021      0.001      3.211      0.002       0.001       0.003\n",
              "sqrft          0.1197      0.013      9.543      0.000       0.095       0.145\n",
              "bdrms          9.7842      7.111      1.376      0.172      -4.355      23.924\n",
              "==============================================================================\n",
              "Omnibus:                       24.233   Durbin-Watson:                   2.081\n",
              "Prob(Omnibus):                  0.000   Jarque-Bera (JB):               41.781\n",
              "Skew:                           1.095   Prob(JB):                     8.46e-10\n",
              "Kurtosis:                       5.569   Cond. No.                     1.52e+04\n",
              "==============================================================================\n",
              "\n",
              "Notes:\n",
              "[1] R² is computed without centering (uncentered) since the model does not contain a constant.\n",
              "[2] Standard Errors assume that the covariance matrix of the errors is correctly specified.\n",
              "[3] The condition number is large, 1.52e+04. This might indicate that there are\n",
              "strong multicollinearity or other numerical problems.\n",
              "\"\"\""
            ],
            "text/html": [
              "<table class=\"simpletable\">\n",
              "<caption>OLS Regression Results</caption>\n",
              "<tr>\n",
              "  <th>Dep. Variable:</th>          <td>price</td>      <th>  R-squared (uncentered):</th>      <td>   0.964</td>\n",
              "</tr>\n",
              "<tr>\n",
              "  <th>Model:</th>                   <td>OLS</td>       <th>  Adj. R-squared (uncentered):</th> <td>   0.963</td>\n",
              "</tr>\n",
              "<tr>\n",
              "  <th>Method:</th>             <td>Least Squares</td>  <th>  F-statistic:       </th>          <td>   767.4</td>\n",
              "</tr>\n",
              "<tr>\n",
              "  <th>Date:</th>             <td>Fri, 12 May 2023</td> <th>  Prob (F-statistic):</th>          <td>2.01e-61</td>\n",
              "</tr>\n",
              "<tr>\n",
              "  <th>Time:</th>                 <td>16:31:37</td>     <th>  Log-Likelihood:    </th>          <td> -483.16</td>\n",
              "</tr>\n",
              "<tr>\n",
              "  <th>No. Observations:</th>      <td>    88</td>      <th>  AIC:               </th>          <td>   972.3</td>\n",
              "</tr>\n",
              "<tr>\n",
              "  <th>Df Residuals:</th>          <td>    85</td>      <th>  BIC:               </th>          <td>   979.8</td>\n",
              "</tr>\n",
              "<tr>\n",
              "  <th>Df Model:</th>              <td>     3</td>      <th>                     </th>              <td> </td>   \n",
              "</tr>\n",
              "<tr>\n",
              "  <th>Covariance Type:</th>      <td>nonrobust</td>    <th>                     </th>              <td> </td>   \n",
              "</tr>\n",
              "</table>\n",
              "<table class=\"simpletable\">\n",
              "<tr>\n",
              "     <td></td>        <th>coef</th>     <th>std err</th>      <th>t</th>      <th>P>|t|</th>  <th>[0.025</th>    <th>0.975]</th>  \n",
              "</tr>\n",
              "<tr>\n",
              "  <th>lotsize</th> <td>    0.0021</td> <td>    0.001</td> <td>    3.211</td> <td> 0.002</td> <td>    0.001</td> <td>    0.003</td>\n",
              "</tr>\n",
              "<tr>\n",
              "  <th>sqrft</th>   <td>    0.1197</td> <td>    0.013</td> <td>    9.543</td> <td> 0.000</td> <td>    0.095</td> <td>    0.145</td>\n",
              "</tr>\n",
              "<tr>\n",
              "  <th>bdrms</th>   <td>    9.7842</td> <td>    7.111</td> <td>    1.376</td> <td> 0.172</td> <td>   -4.355</td> <td>   23.924</td>\n",
              "</tr>\n",
              "</table>\n",
              "<table class=\"simpletable\">\n",
              "<tr>\n",
              "  <th>Omnibus:</th>       <td>24.233</td> <th>  Durbin-Watson:     </th> <td>   2.081</td>\n",
              "</tr>\n",
              "<tr>\n",
              "  <th>Prob(Omnibus):</th> <td> 0.000</td> <th>  Jarque-Bera (JB):  </th> <td>  41.781</td>\n",
              "</tr>\n",
              "<tr>\n",
              "  <th>Skew:</th>          <td> 1.095</td> <th>  Prob(JB):          </th> <td>8.46e-10</td>\n",
              "</tr>\n",
              "<tr>\n",
              "  <th>Kurtosis:</th>      <td> 5.569</td> <th>  Cond. No.          </th> <td>1.52e+04</td>\n",
              "</tr>\n",
              "</table><br/><br/>Notes:<br/>[1] R² is computed without centering (uncentered) since the model does not contain a constant.<br/>[2] Standard Errors assume that the covariance matrix of the errors is correctly specified.<br/>[3] The condition number is large, 1.52e+04. This might indicate that there are<br/>strong multicollinearity or other numerical problems."
            ]
          },
          "metadata": {},
          "execution_count": 136
        }
      ]
    },
    {
      "cell_type": "code",
      "source": [
        "#White\n",
        "x = np.c_[np.ones(len(x)), x]"
      ],
      "metadata": {
        "id": "bQx90mOnyFuk"
      },
      "execution_count": 141,
      "outputs": []
    },
    {
      "cell_type": "code",
      "source": [
        "betas = np.linalg.inv(x.T.dot(x)).dot(x.T.dot(y))"
      ],
      "metadata": {
        "id": "c9arOZhYz4kc"
      },
      "execution_count": 142,
      "outputs": []
    },
    {
      "cell_type": "code",
      "source": [
        "y_est = x.dot(betas)\n",
        "y_est_2 = y_est ** 2\n",
        "u_est = y - y_est\n",
        "u_est_2 = u_est ** 2"
      ],
      "metadata": {
        "id": "doNdBCCbz6q8"
      },
      "execution_count": 143,
      "outputs": []
    },
    {
      "cell_type": "code",
      "source": [
        "x_u = np.c_[np.ones(len(y_est)), y_est, y_est_2]"
      ],
      "metadata": {
        "id": "5XQ_D2j-z9Nk"
      },
      "execution_count": 144,
      "outputs": []
    },
    {
      "cell_type": "code",
      "source": [
        "betas_u = np.linalg.inv(x_u.T.dot(x_u)).dot(x_u.T.dot(u_est_2))"
      ],
      "metadata": {
        "id": "jcp8xjcC0BJD"
      },
      "execution_count": 145,
      "outputs": []
    },
    {
      "cell_type": "code",
      "source": [
        "u_est_2_est = x_u.dot(betas_u)\n",
        "sst = sum((u_est_2 - u_est_2.mean()) ** 2) \n",
        "sse = sum((u_est_2_est - u_est_2.mean()) ** 2)\n",
        "r2 = sse / sst"
      ],
      "metadata": {
        "id": "WIGgDrjU0Ddb"
      },
      "execution_count": 146,
      "outputs": []
    },
    {
      "cell_type": "code",
      "source": [
        "chi_stat = len(x_u) * r2"
      ],
      "metadata": {
        "id": "DmQcAgam0Fuj"
      },
      "execution_count": 147,
      "outputs": []
    },
    {
      "cell_type": "code",
      "source": [
        "chi_stat"
      ],
      "metadata": {
        "colab": {
          "base_uri": "https://localhost:8080/"
        },
        "id": "jypuc5q80Ijb",
        "outputId": "47dc3e8f-4016-4262-fa1d-a7e7b5b23104"
      },
      "execution_count": 148,
      "outputs": [
        {
          "output_type": "execute_result",
          "data": {
            "text/plain": [
              "5.490045377512998"
            ]
          },
          "metadata": {},
          "execution_count": 148
        }
      ]
    },
    {
      "cell_type": "code",
      "source": [
        "chi = st.chi2(2)\n",
        "p_valor = 1 - chi.cdf(chi_stat)"
      ],
      "metadata": {
        "id": "Zvxailhm0Kxj"
      },
      "execution_count": 149,
      "outputs": []
    },
    {
      "cell_type": "code",
      "source": [
        "p_valor\n",
        "     "
      ],
      "metadata": {
        "colab": {
          "base_uri": "https://localhost:8080/"
        },
        "id": "Ek7nDJTz0M8j",
        "outputId": "9d899f69-cab4-46b2-a50b-013b6c904324"
      },
      "execution_count": 150,
      "outputs": [
        {
          "output_type": "execute_result",
          "data": {
            "text/plain": [
              "0.06424684324698426"
            ]
          },
          "metadata": {},
          "execution_count": 150
        }
      ]
    },
    {
      "cell_type": "markdown",
      "source": [
        "No se rechaza la Hipotesis Nula, debido a que el P valor es > 0,05%texto en cursiva por tal razon se define que en el modelo no existe Heterocedasticidad."
      ],
      "metadata": {
        "id": "ssdYHihzp7PB"
      }
    },
    {
      "cell_type": "markdown",
      "source": [
        "#Tercer punto"
      ],
      "metadata": {
        "id": "3GqloyhChsk_"
      }
    },
    {
      "cell_type": "code",
      "source": [
        "dt = wd.data (\"vote1\")"
      ],
      "metadata": {
        "id": "4nMds2fNhzgv"
      },
      "execution_count": 137,
      "outputs": []
    },
    {
      "cell_type": "code",
      "source": [
        "dt"
      ],
      "metadata": {
        "colab": {
          "base_uri": "https://localhost:8080/",
          "height": 424
        },
        "id": "bpM_J_6Eh5Vn",
        "outputId": "0fb78ecb-c09e-400a-ae9c-7c26f77e5fa0"
      },
      "execution_count": 138,
      "outputs": [
        {
          "output_type": "execute_result",
          "data": {
            "text/plain": [
              "    state  district  democA  voteA     expendA      expendB  prtystrA  \\\n",
              "0      AL         7       1     68  328.295990     8.737000        41   \n",
              "1      AK         1       0     62  626.377014   402.476990        60   \n",
              "2      AZ         2       1     73   99.607002     3.065000        55   \n",
              "3      AZ         3       0     69  319.690002    26.281000        64   \n",
              "4      AR         3       0     75  159.220993    60.054001        66   \n",
              "..    ...       ...     ...    ...         ...          ...       ...   \n",
              "168    WV         4       0     39   32.039001   152.270996        42   \n",
              "169    WI         3       1     32   22.625999   359.800995        53   \n",
              "170    WI         5       0     36  197.460007  1278.526001        36   \n",
              "171    WI         7       0     38  202.591003   450.716003        46   \n",
              "172    WI         8       1     30   14.421000   227.822998        47   \n",
              "\n",
              "     lexpendA  lexpendB     shareA  \n",
              "0    5.793916  2.167567  97.407669  \n",
              "1    6.439952  5.997638  60.881039  \n",
              "2    4.601233  1.120048  97.014763  \n",
              "3    5.767352  3.268846  92.403702  \n",
              "4    5.070293  4.095244  72.612473  \n",
              "..        ...       ...        ...  \n",
              "168  3.466954  5.025662  17.383217  \n",
              "169  3.119100  5.885551   5.916420  \n",
              "170  5.285536  7.153463  13.378174  \n",
              "171  5.311189  6.110837  31.010078  \n",
              "172  2.668685  5.428569   5.953087  \n",
              "\n",
              "[173 rows x 10 columns]"
            ],
            "text/html": [
              "\n",
              "  <div id=\"df-d9d03f0a-d17f-43ad-917a-df7dd652b536\">\n",
              "    <div class=\"colab-df-container\">\n",
              "      <div>\n",
              "<style scoped>\n",
              "    .dataframe tbody tr th:only-of-type {\n",
              "        vertical-align: middle;\n",
              "    }\n",
              "\n",
              "    .dataframe tbody tr th {\n",
              "        vertical-align: top;\n",
              "    }\n",
              "\n",
              "    .dataframe thead th {\n",
              "        text-align: right;\n",
              "    }\n",
              "</style>\n",
              "<table border=\"1\" class=\"dataframe\">\n",
              "  <thead>\n",
              "    <tr style=\"text-align: right;\">\n",
              "      <th></th>\n",
              "      <th>state</th>\n",
              "      <th>district</th>\n",
              "      <th>democA</th>\n",
              "      <th>voteA</th>\n",
              "      <th>expendA</th>\n",
              "      <th>expendB</th>\n",
              "      <th>prtystrA</th>\n",
              "      <th>lexpendA</th>\n",
              "      <th>lexpendB</th>\n",
              "      <th>shareA</th>\n",
              "    </tr>\n",
              "  </thead>\n",
              "  <tbody>\n",
              "    <tr>\n",
              "      <th>0</th>\n",
              "      <td>AL</td>\n",
              "      <td>7</td>\n",
              "      <td>1</td>\n",
              "      <td>68</td>\n",
              "      <td>328.295990</td>\n",
              "      <td>8.737000</td>\n",
              "      <td>41</td>\n",
              "      <td>5.793916</td>\n",
              "      <td>2.167567</td>\n",
              "      <td>97.407669</td>\n",
              "    </tr>\n",
              "    <tr>\n",
              "      <th>1</th>\n",
              "      <td>AK</td>\n",
              "      <td>1</td>\n",
              "      <td>0</td>\n",
              "      <td>62</td>\n",
              "      <td>626.377014</td>\n",
              "      <td>402.476990</td>\n",
              "      <td>60</td>\n",
              "      <td>6.439952</td>\n",
              "      <td>5.997638</td>\n",
              "      <td>60.881039</td>\n",
              "    </tr>\n",
              "    <tr>\n",
              "      <th>2</th>\n",
              "      <td>AZ</td>\n",
              "      <td>2</td>\n",
              "      <td>1</td>\n",
              "      <td>73</td>\n",
              "      <td>99.607002</td>\n",
              "      <td>3.065000</td>\n",
              "      <td>55</td>\n",
              "      <td>4.601233</td>\n",
              "      <td>1.120048</td>\n",
              "      <td>97.014763</td>\n",
              "    </tr>\n",
              "    <tr>\n",
              "      <th>3</th>\n",
              "      <td>AZ</td>\n",
              "      <td>3</td>\n",
              "      <td>0</td>\n",
              "      <td>69</td>\n",
              "      <td>319.690002</td>\n",
              "      <td>26.281000</td>\n",
              "      <td>64</td>\n",
              "      <td>5.767352</td>\n",
              "      <td>3.268846</td>\n",
              "      <td>92.403702</td>\n",
              "    </tr>\n",
              "    <tr>\n",
              "      <th>4</th>\n",
              "      <td>AR</td>\n",
              "      <td>3</td>\n",
              "      <td>0</td>\n",
              "      <td>75</td>\n",
              "      <td>159.220993</td>\n",
              "      <td>60.054001</td>\n",
              "      <td>66</td>\n",
              "      <td>5.070293</td>\n",
              "      <td>4.095244</td>\n",
              "      <td>72.612473</td>\n",
              "    </tr>\n",
              "    <tr>\n",
              "      <th>...</th>\n",
              "      <td>...</td>\n",
              "      <td>...</td>\n",
              "      <td>...</td>\n",
              "      <td>...</td>\n",
              "      <td>...</td>\n",
              "      <td>...</td>\n",
              "      <td>...</td>\n",
              "      <td>...</td>\n",
              "      <td>...</td>\n",
              "      <td>...</td>\n",
              "    </tr>\n",
              "    <tr>\n",
              "      <th>168</th>\n",
              "      <td>WV</td>\n",
              "      <td>4</td>\n",
              "      <td>0</td>\n",
              "      <td>39</td>\n",
              "      <td>32.039001</td>\n",
              "      <td>152.270996</td>\n",
              "      <td>42</td>\n",
              "      <td>3.466954</td>\n",
              "      <td>5.025662</td>\n",
              "      <td>17.383217</td>\n",
              "    </tr>\n",
              "    <tr>\n",
              "      <th>169</th>\n",
              "      <td>WI</td>\n",
              "      <td>3</td>\n",
              "      <td>1</td>\n",
              "      <td>32</td>\n",
              "      <td>22.625999</td>\n",
              "      <td>359.800995</td>\n",
              "      <td>53</td>\n",
              "      <td>3.119100</td>\n",
              "      <td>5.885551</td>\n",
              "      <td>5.916420</td>\n",
              "    </tr>\n",
              "    <tr>\n",
              "      <th>170</th>\n",
              "      <td>WI</td>\n",
              "      <td>5</td>\n",
              "      <td>0</td>\n",
              "      <td>36</td>\n",
              "      <td>197.460007</td>\n",
              "      <td>1278.526001</td>\n",
              "      <td>36</td>\n",
              "      <td>5.285536</td>\n",
              "      <td>7.153463</td>\n",
              "      <td>13.378174</td>\n",
              "    </tr>\n",
              "    <tr>\n",
              "      <th>171</th>\n",
              "      <td>WI</td>\n",
              "      <td>7</td>\n",
              "      <td>0</td>\n",
              "      <td>38</td>\n",
              "      <td>202.591003</td>\n",
              "      <td>450.716003</td>\n",
              "      <td>46</td>\n",
              "      <td>5.311189</td>\n",
              "      <td>6.110837</td>\n",
              "      <td>31.010078</td>\n",
              "    </tr>\n",
              "    <tr>\n",
              "      <th>172</th>\n",
              "      <td>WI</td>\n",
              "      <td>8</td>\n",
              "      <td>1</td>\n",
              "      <td>30</td>\n",
              "      <td>14.421000</td>\n",
              "      <td>227.822998</td>\n",
              "      <td>47</td>\n",
              "      <td>2.668685</td>\n",
              "      <td>5.428569</td>\n",
              "      <td>5.953087</td>\n",
              "    </tr>\n",
              "  </tbody>\n",
              "</table>\n",
              "<p>173 rows × 10 columns</p>\n",
              "</div>\n",
              "      <button class=\"colab-df-convert\" onclick=\"convertToInteractive('df-d9d03f0a-d17f-43ad-917a-df7dd652b536')\"\n",
              "              title=\"Convert this dataframe to an interactive table.\"\n",
              "              style=\"display:none;\">\n",
              "        \n",
              "  <svg xmlns=\"http://www.w3.org/2000/svg\" height=\"24px\"viewBox=\"0 0 24 24\"\n",
              "       width=\"24px\">\n",
              "    <path d=\"M0 0h24v24H0V0z\" fill=\"none\"/>\n",
              "    <path d=\"M18.56 5.44l.94 2.06.94-2.06 2.06-.94-2.06-.94-.94-2.06-.94 2.06-2.06.94zm-11 1L8.5 8.5l.94-2.06 2.06-.94-2.06-.94L8.5 2.5l-.94 2.06-2.06.94zm10 10l.94 2.06.94-2.06 2.06-.94-2.06-.94-.94-2.06-.94 2.06-2.06.94z\"/><path d=\"M17.41 7.96l-1.37-1.37c-.4-.4-.92-.59-1.43-.59-.52 0-1.04.2-1.43.59L10.3 9.45l-7.72 7.72c-.78.78-.78 2.05 0 2.83L4 21.41c.39.39.9.59 1.41.59.51 0 1.02-.2 1.41-.59l7.78-7.78 2.81-2.81c.8-.78.8-2.07 0-2.86zM5.41 20L4 18.59l7.72-7.72 1.47 1.35L5.41 20z\"/>\n",
              "  </svg>\n",
              "      </button>\n",
              "      \n",
              "  <style>\n",
              "    .colab-df-container {\n",
              "      display:flex;\n",
              "      flex-wrap:wrap;\n",
              "      gap: 12px;\n",
              "    }\n",
              "\n",
              "    .colab-df-convert {\n",
              "      background-color: #E8F0FE;\n",
              "      border: none;\n",
              "      border-radius: 50%;\n",
              "      cursor: pointer;\n",
              "      display: none;\n",
              "      fill: #1967D2;\n",
              "      height: 32px;\n",
              "      padding: 0 0 0 0;\n",
              "      width: 32px;\n",
              "    }\n",
              "\n",
              "    .colab-df-convert:hover {\n",
              "      background-color: #E2EBFA;\n",
              "      box-shadow: 0px 1px 2px rgba(60, 64, 67, 0.3), 0px 1px 3px 1px rgba(60, 64, 67, 0.15);\n",
              "      fill: #174EA6;\n",
              "    }\n",
              "\n",
              "    [theme=dark] .colab-df-convert {\n",
              "      background-color: #3B4455;\n",
              "      fill: #D2E3FC;\n",
              "    }\n",
              "\n",
              "    [theme=dark] .colab-df-convert:hover {\n",
              "      background-color: #434B5C;\n",
              "      box-shadow: 0px 1px 3px 1px rgba(0, 0, 0, 0.15);\n",
              "      filter: drop-shadow(0px 1px 2px rgba(0, 0, 0, 0.3));\n",
              "      fill: #FFFFFF;\n",
              "    }\n",
              "  </style>\n",
              "\n",
              "      <script>\n",
              "        const buttonEl =\n",
              "          document.querySelector('#df-d9d03f0a-d17f-43ad-917a-df7dd652b536 button.colab-df-convert');\n",
              "        buttonEl.style.display =\n",
              "          google.colab.kernel.accessAllowed ? 'block' : 'none';\n",
              "\n",
              "        async function convertToInteractive(key) {\n",
              "          const element = document.querySelector('#df-d9d03f0a-d17f-43ad-917a-df7dd652b536');\n",
              "          const dataTable =\n",
              "            await google.colab.kernel.invokeFunction('convertToInteractive',\n",
              "                                                     [key], {});\n",
              "          if (!dataTable) return;\n",
              "\n",
              "          const docLinkHtml = 'Like what you see? Visit the ' +\n",
              "            '<a target=\"_blank\" href=https://colab.research.google.com/notebooks/data_table.ipynb>data table notebook</a>'\n",
              "            + ' to learn more about interactive tables.';\n",
              "          element.innerHTML = '';\n",
              "          dataTable['output_type'] = 'display_data';\n",
              "          await google.colab.output.renderOutput(dataTable, element);\n",
              "          const docLink = document.createElement('div');\n",
              "          docLink.innerHTML = docLinkHtml;\n",
              "          element.appendChild(docLink);\n",
              "        }\n",
              "      </script>\n",
              "    </div>\n",
              "  </div>\n",
              "  "
            ]
          },
          "metadata": {},
          "execution_count": 138
        }
      ]
    },
    {
      "cell_type": "code",
      "source": [
        "y = dt['voteA']\n",
        "x = dt[['prtystrA', 'democA', 'lexpendA', 'lexpendB']]\n",
        "model = sm.add_constant(x)\n",
        "model = sm.OLS(y,x)\n",
        "Reg = model.fit()\n",
        "Reg.summary()"
      ],
      "metadata": {
        "colab": {
          "base_uri": "https://localhost:8080/",
          "height": 512
        },
        "id": "0i0ScPrFh6qn",
        "outputId": "0303b394-fee9-4044-cf87-8836bf8ab258"
      },
      "execution_count": 153,
      "outputs": [
        {
          "output_type": "execute_result",
          "data": {
            "text/plain": [
              "<class 'statsmodels.iolib.summary.Summary'>\n",
              "\"\"\"\n",
              "                                 OLS Regression Results                                \n",
              "=======================================================================================\n",
              "Dep. Variable:                  voteA   R-squared (uncentered):                   0.973\n",
              "Model:                            OLS   Adj. R-squared (uncentered):              0.972\n",
              "Method:                 Least Squares   F-statistic:                              1518.\n",
              "Date:                Fri, 12 May 2023   Prob (F-statistic):                   3.03e-131\n",
              "Time:                        16:39:52   Log-Likelihood:                         -620.83\n",
              "No. Observations:                 173   AIC:                                      1250.\n",
              "Df Residuals:                     169   BIC:                                      1262.\n",
              "Df Model:                           4                                                  \n",
              "Covariance Type:            nonrobust                                                  \n",
              "==============================================================================\n",
              "                 coef    std err          t      P>|t|      [0.025      0.975]\n",
              "------------------------------------------------------------------------------\n",
              "prtystrA       0.7083      0.049     14.319      0.000       0.611       0.806\n",
              "democA        10.2889      1.339      7.682      0.000       7.645      12.933\n",
              "lexpendA       5.8980      0.458     12.878      0.000       4.994       6.802\n",
              "lexpendB      -4.1761      0.352    -11.851      0.000      -4.872      -3.480\n",
              "==============================================================================\n",
              "Omnibus:                        5.311   Durbin-Watson:                   1.397\n",
              "Prob(Omnibus):                  0.070   Jarque-Bera (JB):                4.968\n",
              "Skew:                           0.405   Prob(JB):                       0.0834\n",
              "Kurtosis:                       3.180   Cond. No.                         103.\n",
              "==============================================================================\n",
              "\n",
              "Notes:\n",
              "[1] R² is computed without centering (uncentered) since the model does not contain a constant.\n",
              "[2] Standard Errors assume that the covariance matrix of the errors is correctly specified.\n",
              "\"\"\""
            ],
            "text/html": [
              "<table class=\"simpletable\">\n",
              "<caption>OLS Regression Results</caption>\n",
              "<tr>\n",
              "  <th>Dep. Variable:</th>          <td>voteA</td>      <th>  R-squared (uncentered):</th>      <td>   0.973</td> \n",
              "</tr>\n",
              "<tr>\n",
              "  <th>Model:</th>                   <td>OLS</td>       <th>  Adj. R-squared (uncentered):</th> <td>   0.972</td> \n",
              "</tr>\n",
              "<tr>\n",
              "  <th>Method:</th>             <td>Least Squares</td>  <th>  F-statistic:       </th>          <td>   1518.</td> \n",
              "</tr>\n",
              "<tr>\n",
              "  <th>Date:</th>             <td>Fri, 12 May 2023</td> <th>  Prob (F-statistic):</th>          <td>3.03e-131</td>\n",
              "</tr>\n",
              "<tr>\n",
              "  <th>Time:</th>                 <td>16:39:52</td>     <th>  Log-Likelihood:    </th>          <td> -620.83</td> \n",
              "</tr>\n",
              "<tr>\n",
              "  <th>No. Observations:</th>      <td>   173</td>      <th>  AIC:               </th>          <td>   1250.</td> \n",
              "</tr>\n",
              "<tr>\n",
              "  <th>Df Residuals:</th>          <td>   169</td>      <th>  BIC:               </th>          <td>   1262.</td> \n",
              "</tr>\n",
              "<tr>\n",
              "  <th>Df Model:</th>              <td>     4</td>      <th>                     </th>              <td> </td>    \n",
              "</tr>\n",
              "<tr>\n",
              "  <th>Covariance Type:</th>      <td>nonrobust</td>    <th>                     </th>              <td> </td>    \n",
              "</tr>\n",
              "</table>\n",
              "<table class=\"simpletable\">\n",
              "<tr>\n",
              "      <td></td>        <th>coef</th>     <th>std err</th>      <th>t</th>      <th>P>|t|</th>  <th>[0.025</th>    <th>0.975]</th>  \n",
              "</tr>\n",
              "<tr>\n",
              "  <th>prtystrA</th> <td>    0.7083</td> <td>    0.049</td> <td>   14.319</td> <td> 0.000</td> <td>    0.611</td> <td>    0.806</td>\n",
              "</tr>\n",
              "<tr>\n",
              "  <th>democA</th>   <td>   10.2889</td> <td>    1.339</td> <td>    7.682</td> <td> 0.000</td> <td>    7.645</td> <td>   12.933</td>\n",
              "</tr>\n",
              "<tr>\n",
              "  <th>lexpendA</th> <td>    5.8980</td> <td>    0.458</td> <td>   12.878</td> <td> 0.000</td> <td>    4.994</td> <td>    6.802</td>\n",
              "</tr>\n",
              "<tr>\n",
              "  <th>lexpendB</th> <td>   -4.1761</td> <td>    0.352</td> <td>  -11.851</td> <td> 0.000</td> <td>   -4.872</td> <td>   -3.480</td>\n",
              "</tr>\n",
              "</table>\n",
              "<table class=\"simpletable\">\n",
              "<tr>\n",
              "  <th>Omnibus:</th>       <td> 5.311</td> <th>  Durbin-Watson:     </th> <td>   1.397</td>\n",
              "</tr>\n",
              "<tr>\n",
              "  <th>Prob(Omnibus):</th> <td> 0.070</td> <th>  Jarque-Bera (JB):  </th> <td>   4.968</td>\n",
              "</tr>\n",
              "<tr>\n",
              "  <th>Skew:</th>          <td> 0.405</td> <th>  Prob(JB):          </th> <td>  0.0834</td>\n",
              "</tr>\n",
              "<tr>\n",
              "  <th>Kurtosis:</th>      <td> 3.180</td> <th>  Cond. No.          </th> <td>    103.</td>\n",
              "</tr>\n",
              "</table><br/><br/>Notes:<br/>[1] R² is computed without centering (uncentered) since the model does not contain a constant.<br/>[2] Standard Errors assume that the covariance matrix of the errors is correctly specified."
            ]
          },
          "metadata": {},
          "execution_count": 153
        }
      ]
    },
    {
      "cell_type": "code",
      "source": [
        "#Breusch-Pagan\n",
        "betas_u = np.linalg.inv(x.T.dot(x)).dot(x.T.dot(u_est_2))"
      ],
      "metadata": {
        "id": "5m6GpsY4k6Kp"
      },
      "execution_count": 154,
      "outputs": []
    },
    {
      "cell_type": "code",
      "source": [
        "betas_u"
      ],
      "metadata": {
        "colab": {
          "base_uri": "https://localhost:8080/"
        },
        "id": "8oemC1CT1enQ",
        "outputId": "16922767-a347-4f8e-8296-9a6fa10ea70d"
      },
      "execution_count": 155,
      "outputs": [
        {
          "output_type": "execute_result",
          "data": {
            "text/plain": [
              "array([ 1.08181899, 35.27586318, -9.94648941,  6.18743756])"
            ]
          },
          "metadata": {},
          "execution_count": 155
        }
      ]
    },
    {
      "cell_type": "code",
      "source": [
        "u_est_2_est = x.dot(betas_u)\n",
        "sst = sum((u_est_2 - u_est_2.mean()) ** 2) \n",
        "sse = sum((u_est_2_est - u_est_2.mean()) ** 2)\n",
        "r2 = sse / sst"
      ],
      "metadata": {
        "id": "87SrP2W11PNI"
      },
      "execution_count": 156,
      "outputs": []
    },
    {
      "cell_type": "code",
      "source": [
        "r2"
      ],
      "metadata": {
        "colab": {
          "base_uri": "https://localhost:8080/"
        },
        "id": "sZOUsgS21k3i",
        "outputId": "3dd61fa6-92d0-450e-b07b-96b4022c94ab"
      },
      "execution_count": 157,
      "outputs": [
        {
          "output_type": "execute_result",
          "data": {
            "text/plain": [
              "0.051921750029591686"
            ]
          },
          "metadata": {},
          "execution_count": 157
        }
      ]
    },
    {
      "cell_type": "code",
      "source": [
        "chi_stat = len(x) * r2"
      ],
      "metadata": {
        "id": "LeiBag8Y1klM"
      },
      "execution_count": 158,
      "outputs": []
    },
    {
      "cell_type": "code",
      "source": [
        "chi_stat"
      ],
      "metadata": {
        "colab": {
          "base_uri": "https://localhost:8080/"
        },
        "id": "3wMvGwtd1pY5",
        "outputId": "d81c5dfa-085c-47d9-b104-3279775af1d8"
      },
      "execution_count": 159,
      "outputs": [
        {
          "output_type": "execute_result",
          "data": {
            "text/plain": [
              "8.982462755119363"
            ]
          },
          "metadata": {},
          "execution_count": 159
        }
      ]
    },
    {
      "cell_type": "code",
      "source": [
        "chi = st.chi2(1)\n",
        "p_valor = 1 - chi.cdf(chi_stat)"
      ],
      "metadata": {
        "id": "1ZZckiID1sIo"
      },
      "execution_count": 160,
      "outputs": []
    },
    {
      "cell_type": "code",
      "source": [
        "p_valor"
      ],
      "metadata": {
        "colab": {
          "base_uri": "https://localhost:8080/"
        },
        "id": "TGaYfv6R1vZg",
        "outputId": "87ae2df4-d8e9-4c0d-9770-19e191c0a946"
      },
      "execution_count": 161,
      "outputs": [
        {
          "output_type": "execute_result",
          "data": {
            "text/plain": [
              "0.0027258301598177548"
            ]
          },
          "metadata": {},
          "execution_count": 161
        }
      ]
    },
    {
      "cell_type": "markdown",
      "source": [
        "Se rechaza la Hipotesis Nula, debido a que el P valor es > 0,05%texto en cursiva por tal razon se define que en el modelo existe Heterocedasticidad."
      ],
      "metadata": {
        "id": "a1EQ498d2HMM"
      }
    },
    {
      "cell_type": "markdown",
      "source": [
        "#Cuarto punto"
      ],
      "metadata": {
        "id": "6RPICpUKk-QA"
      }
    },
    {
      "cell_type": "code",
      "source": [
        "dato = wd.data (\"fertil2\")"
      ],
      "metadata": {
        "id": "LBsj8h1JlAw3"
      },
      "execution_count": 162,
      "outputs": []
    },
    {
      "cell_type": "code",
      "source": [
        "dato"
      ],
      "metadata": {
        "colab": {
          "base_uri": "https://localhost:8080/",
          "height": 488
        },
        "id": "6AIN225blJsw",
        "outputId": "df8c9b47-d4ee-4a7e-f24a-2425c9cba547"
      },
      "execution_count": 163,
      "outputs": [
        {
          "output_type": "execute_result",
          "data": {
            "text/plain": [
              "      mnthborn  yearborn  age  electric  radio   tv  bicycle  educ  ceb  \\\n",
              "0            5        64   24       1.0    1.0  1.0      1.0    12    0   \n",
              "1            1        56   32       1.0    1.0  1.0      1.0    13    3   \n",
              "2            7        58   30       1.0    0.0  0.0      0.0     5    1   \n",
              "3           11        45   42       1.0    0.0  1.0      0.0     4    3   \n",
              "4            5        45   43       1.0    1.0  1.0      1.0    11    2   \n",
              "...        ...       ...  ...       ...    ...  ...      ...   ...  ...   \n",
              "4356         6        72   16       0.0    1.0  0.0      0.0     7    0   \n",
              "4357         1        60   28       0.0    1.0  0.0      0.0     7    2   \n",
              "4358        11        63   24       0.0    1.0  0.0      0.0     5    4   \n",
              "4359         1        62   26       0.0    1.0  0.0      0.0     0    1   \n",
              "4360        12        51   36       0.0    1.0  0.0      0.0     3    6   \n",
              "\n",
              "      agefbrth  ...  heduc  agesq  urban  urb_educ  spirit  protest  catholic  \\\n",
              "0          NaN  ...    NaN    576      1        12       0        0         0   \n",
              "1         25.0  ...   12.0   1024      1        13       0        0         0   \n",
              "2         27.0  ...    7.0    900      1         5       1        0         0   \n",
              "3         17.0  ...   11.0   1764      1         4       0        0         0   \n",
              "4         24.0  ...   14.0   1849      1        11       0        1         0   \n",
              "...        ...  ...    ...    ...    ...       ...     ...      ...       ...   \n",
              "4356       NaN  ...    NaN    256      0         0       0        1         0   \n",
              "4357      19.0  ...    NaN    784      0         0       0        1         0   \n",
              "4358      13.0  ...    NaN    576      0         0       0        1         0   \n",
              "4359      25.0  ...    7.0    676      0         0       1        0         0   \n",
              "4360      22.0  ...    0.0   1296      0         0       0        1         0   \n",
              "\n",
              "      frsthalf  educ0  evermarr  \n",
              "0            1      0         0  \n",
              "1            1      0         1  \n",
              "2            0      0         1  \n",
              "3            0      0         1  \n",
              "4            1      0         1  \n",
              "...        ...    ...       ...  \n",
              "4356         1      0         0  \n",
              "4357         1      0         0  \n",
              "4358         0      0         0  \n",
              "4359         1      1         1  \n",
              "4360         0      0         1  \n",
              "\n",
              "[4361 rows x 27 columns]"
            ],
            "text/html": [
              "\n",
              "  <div id=\"df-d5ba6e7a-e1e7-4545-9150-8c9321a49146\">\n",
              "    <div class=\"colab-df-container\">\n",
              "      <div>\n",
              "<style scoped>\n",
              "    .dataframe tbody tr th:only-of-type {\n",
              "        vertical-align: middle;\n",
              "    }\n",
              "\n",
              "    .dataframe tbody tr th {\n",
              "        vertical-align: top;\n",
              "    }\n",
              "\n",
              "    .dataframe thead th {\n",
              "        text-align: right;\n",
              "    }\n",
              "</style>\n",
              "<table border=\"1\" class=\"dataframe\">\n",
              "  <thead>\n",
              "    <tr style=\"text-align: right;\">\n",
              "      <th></th>\n",
              "      <th>mnthborn</th>\n",
              "      <th>yearborn</th>\n",
              "      <th>age</th>\n",
              "      <th>electric</th>\n",
              "      <th>radio</th>\n",
              "      <th>tv</th>\n",
              "      <th>bicycle</th>\n",
              "      <th>educ</th>\n",
              "      <th>ceb</th>\n",
              "      <th>agefbrth</th>\n",
              "      <th>...</th>\n",
              "      <th>heduc</th>\n",
              "      <th>agesq</th>\n",
              "      <th>urban</th>\n",
              "      <th>urb_educ</th>\n",
              "      <th>spirit</th>\n",
              "      <th>protest</th>\n",
              "      <th>catholic</th>\n",
              "      <th>frsthalf</th>\n",
              "      <th>educ0</th>\n",
              "      <th>evermarr</th>\n",
              "    </tr>\n",
              "  </thead>\n",
              "  <tbody>\n",
              "    <tr>\n",
              "      <th>0</th>\n",
              "      <td>5</td>\n",
              "      <td>64</td>\n",
              "      <td>24</td>\n",
              "      <td>1.0</td>\n",
              "      <td>1.0</td>\n",
              "      <td>1.0</td>\n",
              "      <td>1.0</td>\n",
              "      <td>12</td>\n",
              "      <td>0</td>\n",
              "      <td>NaN</td>\n",
              "      <td>...</td>\n",
              "      <td>NaN</td>\n",
              "      <td>576</td>\n",
              "      <td>1</td>\n",
              "      <td>12</td>\n",
              "      <td>0</td>\n",
              "      <td>0</td>\n",
              "      <td>0</td>\n",
              "      <td>1</td>\n",
              "      <td>0</td>\n",
              "      <td>0</td>\n",
              "    </tr>\n",
              "    <tr>\n",
              "      <th>1</th>\n",
              "      <td>1</td>\n",
              "      <td>56</td>\n",
              "      <td>32</td>\n",
              "      <td>1.0</td>\n",
              "      <td>1.0</td>\n",
              "      <td>1.0</td>\n",
              "      <td>1.0</td>\n",
              "      <td>13</td>\n",
              "      <td>3</td>\n",
              "      <td>25.0</td>\n",
              "      <td>...</td>\n",
              "      <td>12.0</td>\n",
              "      <td>1024</td>\n",
              "      <td>1</td>\n",
              "      <td>13</td>\n",
              "      <td>0</td>\n",
              "      <td>0</td>\n",
              "      <td>0</td>\n",
              "      <td>1</td>\n",
              "      <td>0</td>\n",
              "      <td>1</td>\n",
              "    </tr>\n",
              "    <tr>\n",
              "      <th>2</th>\n",
              "      <td>7</td>\n",
              "      <td>58</td>\n",
              "      <td>30</td>\n",
              "      <td>1.0</td>\n",
              "      <td>0.0</td>\n",
              "      <td>0.0</td>\n",
              "      <td>0.0</td>\n",
              "      <td>5</td>\n",
              "      <td>1</td>\n",
              "      <td>27.0</td>\n",
              "      <td>...</td>\n",
              "      <td>7.0</td>\n",
              "      <td>900</td>\n",
              "      <td>1</td>\n",
              "      <td>5</td>\n",
              "      <td>1</td>\n",
              "      <td>0</td>\n",
              "      <td>0</td>\n",
              "      <td>0</td>\n",
              "      <td>0</td>\n",
              "      <td>1</td>\n",
              "    </tr>\n",
              "    <tr>\n",
              "      <th>3</th>\n",
              "      <td>11</td>\n",
              "      <td>45</td>\n",
              "      <td>42</td>\n",
              "      <td>1.0</td>\n",
              "      <td>0.0</td>\n",
              "      <td>1.0</td>\n",
              "      <td>0.0</td>\n",
              "      <td>4</td>\n",
              "      <td>3</td>\n",
              "      <td>17.0</td>\n",
              "      <td>...</td>\n",
              "      <td>11.0</td>\n",
              "      <td>1764</td>\n",
              "      <td>1</td>\n",
              "      <td>4</td>\n",
              "      <td>0</td>\n",
              "      <td>0</td>\n",
              "      <td>0</td>\n",
              "      <td>0</td>\n",
              "      <td>0</td>\n",
              "      <td>1</td>\n",
              "    </tr>\n",
              "    <tr>\n",
              "      <th>4</th>\n",
              "      <td>5</td>\n",
              "      <td>45</td>\n",
              "      <td>43</td>\n",
              "      <td>1.0</td>\n",
              "      <td>1.0</td>\n",
              "      <td>1.0</td>\n",
              "      <td>1.0</td>\n",
              "      <td>11</td>\n",
              "      <td>2</td>\n",
              "      <td>24.0</td>\n",
              "      <td>...</td>\n",
              "      <td>14.0</td>\n",
              "      <td>1849</td>\n",
              "      <td>1</td>\n",
              "      <td>11</td>\n",
              "      <td>0</td>\n",
              "      <td>1</td>\n",
              "      <td>0</td>\n",
              "      <td>1</td>\n",
              "      <td>0</td>\n",
              "      <td>1</td>\n",
              "    </tr>\n",
              "    <tr>\n",
              "      <th>...</th>\n",
              "      <td>...</td>\n",
              "      <td>...</td>\n",
              "      <td>...</td>\n",
              "      <td>...</td>\n",
              "      <td>...</td>\n",
              "      <td>...</td>\n",
              "      <td>...</td>\n",
              "      <td>...</td>\n",
              "      <td>...</td>\n",
              "      <td>...</td>\n",
              "      <td>...</td>\n",
              "      <td>...</td>\n",
              "      <td>...</td>\n",
              "      <td>...</td>\n",
              "      <td>...</td>\n",
              "      <td>...</td>\n",
              "      <td>...</td>\n",
              "      <td>...</td>\n",
              "      <td>...</td>\n",
              "      <td>...</td>\n",
              "      <td>...</td>\n",
              "    </tr>\n",
              "    <tr>\n",
              "      <th>4356</th>\n",
              "      <td>6</td>\n",
              "      <td>72</td>\n",
              "      <td>16</td>\n",
              "      <td>0.0</td>\n",
              "      <td>1.0</td>\n",
              "      <td>0.0</td>\n",
              "      <td>0.0</td>\n",
              "      <td>7</td>\n",
              "      <td>0</td>\n",
              "      <td>NaN</td>\n",
              "      <td>...</td>\n",
              "      <td>NaN</td>\n",
              "      <td>256</td>\n",
              "      <td>0</td>\n",
              "      <td>0</td>\n",
              "      <td>0</td>\n",
              "      <td>1</td>\n",
              "      <td>0</td>\n",
              "      <td>1</td>\n",
              "      <td>0</td>\n",
              "      <td>0</td>\n",
              "    </tr>\n",
              "    <tr>\n",
              "      <th>4357</th>\n",
              "      <td>1</td>\n",
              "      <td>60</td>\n",
              "      <td>28</td>\n",
              "      <td>0.0</td>\n",
              "      <td>1.0</td>\n",
              "      <td>0.0</td>\n",
              "      <td>0.0</td>\n",
              "      <td>7</td>\n",
              "      <td>2</td>\n",
              "      <td>19.0</td>\n",
              "      <td>...</td>\n",
              "      <td>NaN</td>\n",
              "      <td>784</td>\n",
              "      <td>0</td>\n",
              "      <td>0</td>\n",
              "      <td>0</td>\n",
              "      <td>1</td>\n",
              "      <td>0</td>\n",
              "      <td>1</td>\n",
              "      <td>0</td>\n",
              "      <td>0</td>\n",
              "    </tr>\n",
              "    <tr>\n",
              "      <th>4358</th>\n",
              "      <td>11</td>\n",
              "      <td>63</td>\n",
              "      <td>24</td>\n",
              "      <td>0.0</td>\n",
              "      <td>1.0</td>\n",
              "      <td>0.0</td>\n",
              "      <td>0.0</td>\n",
              "      <td>5</td>\n",
              "      <td>4</td>\n",
              "      <td>13.0</td>\n",
              "      <td>...</td>\n",
              "      <td>NaN</td>\n",
              "      <td>576</td>\n",
              "      <td>0</td>\n",
              "      <td>0</td>\n",
              "      <td>0</td>\n",
              "      <td>1</td>\n",
              "      <td>0</td>\n",
              "      <td>0</td>\n",
              "      <td>0</td>\n",
              "      <td>0</td>\n",
              "    </tr>\n",
              "    <tr>\n",
              "      <th>4359</th>\n",
              "      <td>1</td>\n",
              "      <td>62</td>\n",
              "      <td>26</td>\n",
              "      <td>0.0</td>\n",
              "      <td>1.0</td>\n",
              "      <td>0.0</td>\n",
              "      <td>0.0</td>\n",
              "      <td>0</td>\n",
              "      <td>1</td>\n",
              "      <td>25.0</td>\n",
              "      <td>...</td>\n",
              "      <td>7.0</td>\n",
              "      <td>676</td>\n",
              "      <td>0</td>\n",
              "      <td>0</td>\n",
              "      <td>1</td>\n",
              "      <td>0</td>\n",
              "      <td>0</td>\n",
              "      <td>1</td>\n",
              "      <td>1</td>\n",
              "      <td>1</td>\n",
              "    </tr>\n",
              "    <tr>\n",
              "      <th>4360</th>\n",
              "      <td>12</td>\n",
              "      <td>51</td>\n",
              "      <td>36</td>\n",
              "      <td>0.0</td>\n",
              "      <td>1.0</td>\n",
              "      <td>0.0</td>\n",
              "      <td>0.0</td>\n",
              "      <td>3</td>\n",
              "      <td>6</td>\n",
              "      <td>22.0</td>\n",
              "      <td>...</td>\n",
              "      <td>0.0</td>\n",
              "      <td>1296</td>\n",
              "      <td>0</td>\n",
              "      <td>0</td>\n",
              "      <td>0</td>\n",
              "      <td>1</td>\n",
              "      <td>0</td>\n",
              "      <td>0</td>\n",
              "      <td>0</td>\n",
              "      <td>1</td>\n",
              "    </tr>\n",
              "  </tbody>\n",
              "</table>\n",
              "<p>4361 rows × 27 columns</p>\n",
              "</div>\n",
              "      <button class=\"colab-df-convert\" onclick=\"convertToInteractive('df-d5ba6e7a-e1e7-4545-9150-8c9321a49146')\"\n",
              "              title=\"Convert this dataframe to an interactive table.\"\n",
              "              style=\"display:none;\">\n",
              "        \n",
              "  <svg xmlns=\"http://www.w3.org/2000/svg\" height=\"24px\"viewBox=\"0 0 24 24\"\n",
              "       width=\"24px\">\n",
              "    <path d=\"M0 0h24v24H0V0z\" fill=\"none\"/>\n",
              "    <path d=\"M18.56 5.44l.94 2.06.94-2.06 2.06-.94-2.06-.94-.94-2.06-.94 2.06-2.06.94zm-11 1L8.5 8.5l.94-2.06 2.06-.94-2.06-.94L8.5 2.5l-.94 2.06-2.06.94zm10 10l.94 2.06.94-2.06 2.06-.94-2.06-.94-.94-2.06-.94 2.06-2.06.94z\"/><path d=\"M17.41 7.96l-1.37-1.37c-.4-.4-.92-.59-1.43-.59-.52 0-1.04.2-1.43.59L10.3 9.45l-7.72 7.72c-.78.78-.78 2.05 0 2.83L4 21.41c.39.39.9.59 1.41.59.51 0 1.02-.2 1.41-.59l7.78-7.78 2.81-2.81c.8-.78.8-2.07 0-2.86zM5.41 20L4 18.59l7.72-7.72 1.47 1.35L5.41 20z\"/>\n",
              "  </svg>\n",
              "      </button>\n",
              "      \n",
              "  <style>\n",
              "    .colab-df-container {\n",
              "      display:flex;\n",
              "      flex-wrap:wrap;\n",
              "      gap: 12px;\n",
              "    }\n",
              "\n",
              "    .colab-df-convert {\n",
              "      background-color: #E8F0FE;\n",
              "      border: none;\n",
              "      border-radius: 50%;\n",
              "      cursor: pointer;\n",
              "      display: none;\n",
              "      fill: #1967D2;\n",
              "      height: 32px;\n",
              "      padding: 0 0 0 0;\n",
              "      width: 32px;\n",
              "    }\n",
              "\n",
              "    .colab-df-convert:hover {\n",
              "      background-color: #E2EBFA;\n",
              "      box-shadow: 0px 1px 2px rgba(60, 64, 67, 0.3), 0px 1px 3px 1px rgba(60, 64, 67, 0.15);\n",
              "      fill: #174EA6;\n",
              "    }\n",
              "\n",
              "    [theme=dark] .colab-df-convert {\n",
              "      background-color: #3B4455;\n",
              "      fill: #D2E3FC;\n",
              "    }\n",
              "\n",
              "    [theme=dark] .colab-df-convert:hover {\n",
              "      background-color: #434B5C;\n",
              "      box-shadow: 0px 1px 3px 1px rgba(0, 0, 0, 0.15);\n",
              "      filter: drop-shadow(0px 1px 2px rgba(0, 0, 0, 0.3));\n",
              "      fill: #FFFFFF;\n",
              "    }\n",
              "  </style>\n",
              "\n",
              "      <script>\n",
              "        const buttonEl =\n",
              "          document.querySelector('#df-d5ba6e7a-e1e7-4545-9150-8c9321a49146 button.colab-df-convert');\n",
              "        buttonEl.style.display =\n",
              "          google.colab.kernel.accessAllowed ? 'block' : 'none';\n",
              "\n",
              "        async function convertToInteractive(key) {\n",
              "          const element = document.querySelector('#df-d5ba6e7a-e1e7-4545-9150-8c9321a49146');\n",
              "          const dataTable =\n",
              "            await google.colab.kernel.invokeFunction('convertToInteractive',\n",
              "                                                     [key], {});\n",
              "          if (!dataTable) return;\n",
              "\n",
              "          const docLinkHtml = 'Like what you see? Visit the ' +\n",
              "            '<a target=\"_blank\" href=https://colab.research.google.com/notebooks/data_table.ipynb>data table notebook</a>'\n",
              "            + ' to learn more about interactive tables.';\n",
              "          element.innerHTML = '';\n",
              "          dataTable['output_type'] = 'display_data';\n",
              "          await google.colab.output.renderOutput(dataTable, element);\n",
              "          const docLink = document.createElement('div');\n",
              "          docLink.innerHTML = docLinkHtml;\n",
              "          element.appendChild(docLink);\n",
              "        }\n",
              "      </script>\n",
              "    </div>\n",
              "  </div>\n",
              "  "
            ]
          },
          "metadata": {},
          "execution_count": 163
        }
      ]
    },
    {
      "cell_type": "code",
      "source": [
        "wd.data('fertil2', description=True)"
      ],
      "metadata": {
        "colab": {
          "base_uri": "https://localhost:8080/"
        },
        "id": "XOHEYM8YlRbf",
        "outputId": "c2f13241-b1de-4c4e-a609-354926238dd6"
      },
      "execution_count": 164,
      "outputs": [
        {
          "output_type": "stream",
          "name": "stdout",
          "text": [
            "name of dataset: fertil2\n",
            "no of variables: 27\n",
            "no of observations: 4361\n",
            "\n",
            "+----------+--------------------------------+\n",
            "| variable | label                          |\n",
            "+----------+--------------------------------+\n",
            "| mnthborn | month woman born               |\n",
            "| yearborn | year woman born                |\n",
            "| age      | age in years                   |\n",
            "| electric | =1 if has electricity          |\n",
            "| radio    | =1 if has radio                |\n",
            "| tv       | =1 if has tv                   |\n",
            "| bicycle  | =1 if has bicycle              |\n",
            "| educ     | years of education             |\n",
            "| ceb      | children ever born             |\n",
            "| agefbrth | age at first birth             |\n",
            "| children | number of living children      |\n",
            "| knowmeth | =1 if know about birth control |\n",
            "| usemeth  | =1 if ever use birth control   |\n",
            "| monthfm  | month of first marriage        |\n",
            "| yearfm   | year of first marriage         |\n",
            "| agefm    | age at first marriage          |\n",
            "| idlnchld | 'ideal' number of children     |\n",
            "| heduc    | husband's years of education   |\n",
            "| agesq    | age^2                          |\n",
            "| urban    | =1 if live in urban area       |\n",
            "| urb_educ | urban*educ                     |\n",
            "| spirit   | =1 if religion == spirit       |\n",
            "| protest  | =1 if religion == protestant   |\n",
            "| catholic | =1 if religion == catholic     |\n",
            "| frsthalf | =1 if mnthborn <= 6            |\n",
            "| educ0    | =1 if educ == 0                |\n",
            "| evermarr | =1 if ever married             |\n",
            "+----------+--------------------------------+\n",
            "\n",
            "These data were obtained by James Heakins, a former MSU undergraduate,\n",
            "for a term project. They come from Botswana’s 1988 Demographic and\n",
            "Health Survey.\n"
          ]
        }
      ]
    },
    {
      "cell_type": "code",
      "source": [
        "dato.isna().sum()"
      ],
      "metadata": {
        "colab": {
          "base_uri": "https://localhost:8080/"
        },
        "id": "wf6oxsx73XjJ",
        "outputId": "a86c9eda-843b-4f10-c79c-696b38858ae1"
      },
      "execution_count": 166,
      "outputs": [
        {
          "output_type": "execute_result",
          "data": {
            "text/plain": [
              "mnthborn       0\n",
              "yearborn       0\n",
              "age            0\n",
              "electric       3\n",
              "radio          2\n",
              "tv             2\n",
              "bicycle        3\n",
              "educ           0\n",
              "ceb            0\n",
              "agefbrth    1088\n",
              "children       0\n",
              "knowmeth       7\n",
              "usemeth       71\n",
              "monthfm     2282\n",
              "yearfm      2282\n",
              "agefm       2282\n",
              "idlnchld     120\n",
              "heduc       2405\n",
              "agesq          0\n",
              "urban          0\n",
              "urb_educ       0\n",
              "spirit         0\n",
              "protest        0\n",
              "catholic       0\n",
              "frsthalf       0\n",
              "educ0          0\n",
              "evermarr       0\n",
              "dtype: int64"
            ]
          },
          "metadata": {},
          "execution_count": 166
        }
      ]
    },
    {
      "cell_type": "code",
      "source": [
        "y = dato['children']\n",
        "x = dato[['age', 'mnthborn', 'yearborn', 'evermarr', 'catholic']]\n",
        "model = sm.add_constant(x)\n",
        "model = sm.OLS(y,x)\n",
        "Reg = model.fit()\n",
        "Reg.summary()"
      ],
      "metadata": {
        "id": "E5-mKkM2lW6X",
        "colab": {
          "base_uri": "https://localhost:8080/",
          "height": 533
        },
        "outputId": "78ae8423-f739-404b-85d0-49c20fbc915d"
      },
      "execution_count": 168,
      "outputs": [
        {
          "output_type": "execute_result",
          "data": {
            "text/plain": [
              "<class 'statsmodels.iolib.summary.Summary'>\n",
              "\"\"\"\n",
              "                                 OLS Regression Results                                \n",
              "=======================================================================================\n",
              "Dep. Variable:               children   R-squared (uncentered):                   0.784\n",
              "Model:                            OLS   Adj. R-squared (uncentered):              0.784\n",
              "Method:                 Least Squares   F-statistic:                              3165.\n",
              "Date:                Fri, 12 May 2023   Prob (F-statistic):                        0.00\n",
              "Time:                        16:49:50   Log-Likelihood:                         -7882.7\n",
              "No. Observations:                4361   AIC:                                  1.578e+04\n",
              "Df Residuals:                    4356   BIC:                                  1.581e+04\n",
              "Df Model:                           5                                                  \n",
              "Covariance Type:            nonrobust                                                  \n",
              "==============================================================================\n",
              "                 coef    std err          t      P>|t|      [0.025      0.975]\n",
              "------------------------------------------------------------------------------\n",
              "age            0.1367      0.002     59.708      0.000       0.132       0.141\n",
              "mnthborn      -0.0160      0.007     -2.388      0.017      -0.029      -0.003\n",
              "yearborn      -0.0284      0.001    -28.392      0.000      -0.030      -0.026\n",
              "evermarr       0.7531      0.052     14.443      0.000       0.651       0.855\n",
              "catholic      -0.1685      0.074     -2.286      0.022      -0.313      -0.024\n",
              "==============================================================================\n",
              "Omnibus:                      208.032   Durbin-Watson:                   1.827\n",
              "Prob(Omnibus):                  0.000   Jarque-Bera (JB):              736.751\n",
              "Skew:                           0.050   Prob(JB):                    1.04e-160\n",
              "Kurtosis:                       5.011   Cond. No.                         220.\n",
              "==============================================================================\n",
              "\n",
              "Notes:\n",
              "[1] R² is computed without centering (uncentered) since the model does not contain a constant.\n",
              "[2] Standard Errors assume that the covariance matrix of the errors is correctly specified.\n",
              "\"\"\""
            ],
            "text/html": [
              "<table class=\"simpletable\">\n",
              "<caption>OLS Regression Results</caption>\n",
              "<tr>\n",
              "  <th>Dep. Variable:</th>        <td>children</td>     <th>  R-squared (uncentered):</th>      <td>   0.784</td> \n",
              "</tr>\n",
              "<tr>\n",
              "  <th>Model:</th>                   <td>OLS</td>       <th>  Adj. R-squared (uncentered):</th> <td>   0.784</td> \n",
              "</tr>\n",
              "<tr>\n",
              "  <th>Method:</th>             <td>Least Squares</td>  <th>  F-statistic:       </th>          <td>   3165.</td> \n",
              "</tr>\n",
              "<tr>\n",
              "  <th>Date:</th>             <td>Fri, 12 May 2023</td> <th>  Prob (F-statistic):</th>           <td>  0.00</td>  \n",
              "</tr>\n",
              "<tr>\n",
              "  <th>Time:</th>                 <td>16:49:50</td>     <th>  Log-Likelihood:    </th>          <td> -7882.7</td> \n",
              "</tr>\n",
              "<tr>\n",
              "  <th>No. Observations:</th>      <td>  4361</td>      <th>  AIC:               </th>          <td>1.578e+04</td>\n",
              "</tr>\n",
              "<tr>\n",
              "  <th>Df Residuals:</th>          <td>  4356</td>      <th>  BIC:               </th>          <td>1.581e+04</td>\n",
              "</tr>\n",
              "<tr>\n",
              "  <th>Df Model:</th>              <td>     5</td>      <th>                     </th>              <td> </td>    \n",
              "</tr>\n",
              "<tr>\n",
              "  <th>Covariance Type:</th>      <td>nonrobust</td>    <th>                     </th>              <td> </td>    \n",
              "</tr>\n",
              "</table>\n",
              "<table class=\"simpletable\">\n",
              "<tr>\n",
              "      <td></td>        <th>coef</th>     <th>std err</th>      <th>t</th>      <th>P>|t|</th>  <th>[0.025</th>    <th>0.975]</th>  \n",
              "</tr>\n",
              "<tr>\n",
              "  <th>age</th>      <td>    0.1367</td> <td>    0.002</td> <td>   59.708</td> <td> 0.000</td> <td>    0.132</td> <td>    0.141</td>\n",
              "</tr>\n",
              "<tr>\n",
              "  <th>mnthborn</th> <td>   -0.0160</td> <td>    0.007</td> <td>   -2.388</td> <td> 0.017</td> <td>   -0.029</td> <td>   -0.003</td>\n",
              "</tr>\n",
              "<tr>\n",
              "  <th>yearborn</th> <td>   -0.0284</td> <td>    0.001</td> <td>  -28.392</td> <td> 0.000</td> <td>   -0.030</td> <td>   -0.026</td>\n",
              "</tr>\n",
              "<tr>\n",
              "  <th>evermarr</th> <td>    0.7531</td> <td>    0.052</td> <td>   14.443</td> <td> 0.000</td> <td>    0.651</td> <td>    0.855</td>\n",
              "</tr>\n",
              "<tr>\n",
              "  <th>catholic</th> <td>   -0.1685</td> <td>    0.074</td> <td>   -2.286</td> <td> 0.022</td> <td>   -0.313</td> <td>   -0.024</td>\n",
              "</tr>\n",
              "</table>\n",
              "<table class=\"simpletable\">\n",
              "<tr>\n",
              "  <th>Omnibus:</th>       <td>208.032</td> <th>  Durbin-Watson:     </th> <td>   1.827</td> \n",
              "</tr>\n",
              "<tr>\n",
              "  <th>Prob(Omnibus):</th> <td> 0.000</td>  <th>  Jarque-Bera (JB):  </th> <td> 736.751</td> \n",
              "</tr>\n",
              "<tr>\n",
              "  <th>Skew:</th>          <td> 0.050</td>  <th>  Prob(JB):          </th> <td>1.04e-160</td>\n",
              "</tr>\n",
              "<tr>\n",
              "  <th>Kurtosis:</th>      <td> 5.011</td>  <th>  Cond. No.          </th> <td>    220.</td> \n",
              "</tr>\n",
              "</table><br/><br/>Notes:<br/>[1] R² is computed without centering (uncentered) since the model does not contain a constant.<br/>[2] Standard Errors assume that the covariance matrix of the errors is correctly specified."
            ]
          },
          "metadata": {},
          "execution_count": 168
        }
      ]
    },
    {
      "cell_type": "code",
      "source": [
        "#White\n",
        "x = np.c_[np.ones(len(x)), x]"
      ],
      "metadata": {
        "id": "8QflVLSV3oQI"
      },
      "execution_count": 169,
      "outputs": []
    },
    {
      "cell_type": "code",
      "source": [
        "betas = np.linalg.inv(x.T.dot(x)).dot(x.T.dot(y))"
      ],
      "metadata": {
        "id": "nDl-msJC3tAS"
      },
      "execution_count": 170,
      "outputs": []
    },
    {
      "cell_type": "code",
      "source": [
        "y_est = x.dot(betas)\n",
        "y_est_2 = y_est ** 2\n",
        "u_est = y - y_est\n",
        "u_est_2 = u_est ** 2"
      ],
      "metadata": {
        "id": "VnovwWyF3uzV"
      },
      "execution_count": 171,
      "outputs": []
    },
    {
      "cell_type": "code",
      "source": [
        "x_u = np.c_[np.ones(len(y_est)), y_est, y_est_2]"
      ],
      "metadata": {
        "id": "P90gspnQ3xir"
      },
      "execution_count": 172,
      "outputs": []
    },
    {
      "cell_type": "code",
      "source": [
        "betas_u = np.linalg.inv(x_u.T.dot(x_u)).dot(x_u.T.dot(u_est_2))"
      ],
      "metadata": {
        "id": "MLBWa5R83zAR"
      },
      "execution_count": 173,
      "outputs": []
    },
    {
      "cell_type": "code",
      "source": [
        "u_est_2_est = x_u.dot(betas_u)\n",
        "sst = sum((u_est_2 - u_est_2.mean()) ** 2) \n",
        "sse = sum((u_est_2_est - u_est_2.mean()) ** 2)\n",
        "r2 = sse / sst"
      ],
      "metadata": {
        "id": "OY4qC_3n30ja"
      },
      "execution_count": 174,
      "outputs": []
    },
    {
      "cell_type": "code",
      "source": [
        "chi_stat = len(x_u) * r2"
      ],
      "metadata": {
        "id": "80-0l-L533GT"
      },
      "execution_count": 175,
      "outputs": []
    },
    {
      "cell_type": "code",
      "source": [
        "chi_stat"
      ],
      "metadata": {
        "colab": {
          "base_uri": "https://localhost:8080/"
        },
        "id": "ThUze5_R36Q5",
        "outputId": "fc37958f-f184-45e9-be68-27b9dadaef39"
      },
      "execution_count": 177,
      "outputs": [
        {
          "output_type": "execute_result",
          "data": {
            "text/plain": [
              "1053.7753474400008"
            ]
          },
          "metadata": {},
          "execution_count": 177
        }
      ]
    },
    {
      "cell_type": "code",
      "source": [
        "chi = st.chi2(2)\n",
        "p_valor = 1 - chi.cdf(chi_stat)"
      ],
      "metadata": {
        "id": "mP0oDWLV39DD"
      },
      "execution_count": 178,
      "outputs": []
    },
    {
      "cell_type": "code",
      "source": [
        "p_valor"
      ],
      "metadata": {
        "colab": {
          "base_uri": "https://localhost:8080/"
        },
        "id": "yv_fSD5y3_w7",
        "outputId": "fd86e38e-3cc2-4240-867a-5277be2c5346"
      },
      "execution_count": 179,
      "outputs": [
        {
          "output_type": "execute_result",
          "data": {
            "text/plain": [
              "0.0"
            ]
          },
          "metadata": {},
          "execution_count": 179
        }
      ]
    },
    {
      "cell_type": "markdown",
      "source": [
        "Se rechaza la Hipotesis Nula, debido a que el P valor es > 0,05% por tal razon se define que en el modelo existe Heterocedasticidad."
      ],
      "metadata": {
        "id": "U-9guZNd4B8a"
      }
    }
  ]
}